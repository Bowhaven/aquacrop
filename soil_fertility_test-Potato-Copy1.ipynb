{
 "cells": [
  {
   "cell_type": "code",
   "execution_count": 1,
   "metadata": {
    "id": "7Z4TGBQzYXQi"
   },
   "outputs": [],
   "source": [
    "# import aquacrop functions (the * simply means 'all')\n",
    "from aquacrop.classes import    *\n",
    "from aquacrop.core import       *\n",
    "import pandas as pd\n",
    "import numpy as np\n",
    "import matplotlib.pyplot as plt"
   ]
  },
  {
   "cell_type": "markdown",
   "metadata": {
    "id": "d7pNB13z2TaJ"
   },
   "source": [
    "## Climate Measurements"
   ]
  },
  {
   "cell_type": "code",
   "execution_count": 2,
   "metadata": {
    "colab": {
     "base_uri": "https://localhost:8080/",
     "height": 419
    },
    "id": "uNQGElSKwPE0",
    "outputId": "0ecad12e-7c76-43b5-b309-131fd758b19c"
   },
   "outputs": [
    {
     "data": {
      "text/html": [
       "<div>\n",
       "<style scoped>\n",
       "    .dataframe tbody tr th:only-of-type {\n",
       "        vertical-align: middle;\n",
       "    }\n",
       "\n",
       "    .dataframe tbody tr th {\n",
       "        vertical-align: top;\n",
       "    }\n",
       "\n",
       "    .dataframe thead th {\n",
       "        text-align: right;\n",
       "    }\n",
       "</style>\n",
       "<table border=\"1\" class=\"dataframe\">\n",
       "  <thead>\n",
       "    <tr style=\"text-align: right;\">\n",
       "      <th></th>\n",
       "      <th>MinTemp</th>\n",
       "      <th>MaxTemp</th>\n",
       "      <th>Precipitation</th>\n",
       "      <th>ReferenceET</th>\n",
       "      <th>Date</th>\n",
       "    </tr>\n",
       "  </thead>\n",
       "  <tbody>\n",
       "    <tr>\n",
       "      <th>0</th>\n",
       "      <td>3.0</td>\n",
       "      <td>10.6</td>\n",
       "      <td>5.3</td>\n",
       "      <td>0.3</td>\n",
       "      <td>1976-01-01</td>\n",
       "    </tr>\n",
       "    <tr>\n",
       "      <th>1</th>\n",
       "      <td>4.1</td>\n",
       "      <td>11.8</td>\n",
       "      <td>2.7</td>\n",
       "      <td>0.5</td>\n",
       "      <td>1976-01-02</td>\n",
       "    </tr>\n",
       "    <tr>\n",
       "      <th>2</th>\n",
       "      <td>6.1</td>\n",
       "      <td>7.2</td>\n",
       "      <td>0.2</td>\n",
       "      <td>0.9</td>\n",
       "      <td>1976-01-03</td>\n",
       "    </tr>\n",
       "    <tr>\n",
       "      <th>3</th>\n",
       "      <td>1.6</td>\n",
       "      <td>6.5</td>\n",
       "      <td>2.6</td>\n",
       "      <td>0.5</td>\n",
       "      <td>1976-01-04</td>\n",
       "    </tr>\n",
       "    <tr>\n",
       "      <th>4</th>\n",
       "      <td>1.7</td>\n",
       "      <td>9.4</td>\n",
       "      <td>3.4</td>\n",
       "      <td>0.2</td>\n",
       "      <td>1976-01-05</td>\n",
       "    </tr>\n",
       "    <tr>\n",
       "      <th>...</th>\n",
       "      <td>...</td>\n",
       "      <td>...</td>\n",
       "      <td>...</td>\n",
       "      <td>...</td>\n",
       "      <td>...</td>\n",
       "    </tr>\n",
       "    <tr>\n",
       "      <th>10953</th>\n",
       "      <td>-2.2</td>\n",
       "      <td>-0.8</td>\n",
       "      <td>1.4</td>\n",
       "      <td>0.3</td>\n",
       "      <td>2005-12-27</td>\n",
       "    </tr>\n",
       "    <tr>\n",
       "      <th>10954</th>\n",
       "      <td>-6.3</td>\n",
       "      <td>-0.8</td>\n",
       "      <td>0.0</td>\n",
       "      <td>0.3</td>\n",
       "      <td>2005-12-28</td>\n",
       "    </tr>\n",
       "    <tr>\n",
       "      <th>10955</th>\n",
       "      <td>-7.0</td>\n",
       "      <td>-0.3</td>\n",
       "      <td>0.4</td>\n",
       "      <td>0.1</td>\n",
       "      <td>2005-12-29</td>\n",
       "    </tr>\n",
       "    <tr>\n",
       "      <th>10956</th>\n",
       "      <td>-3.8</td>\n",
       "      <td>2.1</td>\n",
       "      <td>7.3</td>\n",
       "      <td>0.4</td>\n",
       "      <td>2005-12-30</td>\n",
       "    </tr>\n",
       "    <tr>\n",
       "      <th>10957</th>\n",
       "      <td>2.1</td>\n",
       "      <td>7.0</td>\n",
       "      <td>3.5</td>\n",
       "      <td>0.3</td>\n",
       "      <td>2005-12-31</td>\n",
       "    </tr>\n",
       "  </tbody>\n",
       "</table>\n",
       "<p>10958 rows × 5 columns</p>\n",
       "</div>"
      ],
      "text/plain": [
       "       MinTemp  MaxTemp  Precipitation  ReferenceET       Date\n",
       "0          3.0     10.6            5.3          0.3 1976-01-01\n",
       "1          4.1     11.8            2.7          0.5 1976-01-02\n",
       "2          6.1      7.2            0.2          0.9 1976-01-03\n",
       "3          1.6      6.5            2.6          0.5 1976-01-04\n",
       "4          1.7      9.4            3.4          0.2 1976-01-05\n",
       "...        ...      ...            ...          ...        ...\n",
       "10953     -2.2     -0.8            1.4          0.3 2005-12-27\n",
       "10954     -6.3     -0.8            0.0          0.3 2005-12-28\n",
       "10955     -7.0     -0.3            0.4          0.1 2005-12-29\n",
       "10956     -3.8      2.1            7.3          0.4 2005-12-30\n",
       "10957      2.1      7.0            3.5          0.3 2005-12-31\n",
       "\n",
       "[10958 rows x 5 columns]"
      ]
     },
     "execution_count": 2,
     "metadata": {},
     "output_type": "execute_result"
    }
   ],
   "source": [
    "# locate built in weather file\n",
    "filepath=get_filepath('brussels_climate.txt')\n",
    "\n",
    "weather_data = prepare_weather(filepath)\n",
    "weather_data"
   ]
  },
  {
   "cell_type": "markdown",
   "metadata": {
    "id": "nfZ1LMjZmUQ_"
   },
   "source": [
    "## Soil"
   ]
  },
  {
   "cell_type": "code",
   "execution_count": 3,
   "metadata": {
    "id": "l2itZBlsPXf6"
   },
   "outputs": [],
   "source": [
    "sandy_loam = SoilClass(soilType='SandyLoam')"
   ]
  },
  {
   "cell_type": "markdown",
   "metadata": {
    "id": "PedFdBWt2gZ4"
   },
   "source": [
    "## Crop calibration"
   ]
  },
  {
   "cell_type": "code",
   "execution_count": 4,
   "metadata": {},
   "outputs": [],
   "source": [
    "Rel=60\n",
    "RedaCCx=74\n",
    "CCx=92\n",
    "\n",
    "potato = CropClass('Potato_t', PlantingDate='05/01',need_calib=1,RelativeBio=Rel/100,Ksccx_in=RedaCCx/CCx,fcdecline_in=1)"
   ]
  },
  {
   "cell_type": "code",
   "execution_count": 5,
   "metadata": {},
   "outputs": [],
   "source": [
    "InitWC = InitWCClass(value=['FC'])"
   ]
  },
  {
   "cell_type": "code",
   "execution_count": 6,
   "metadata": {},
   "outputs": [],
   "source": [
    "# combine into aquacrop model and specify start and end simulation date\n",
    "model = AquaCropModel(SimStartTime=f'{1976}/05/01',\n",
    "                      SimEndTime=f'{1976}/07/24',\n",
    "                      wdf=weather_data,\n",
    "                      Soil=sandy_loam,\n",
    "                      Crop=potato,\n",
    "                      InitWC=InitWC)"
   ]
  },
  {
   "cell_type": "code",
   "execution_count": 7,
   "metadata": {},
   "outputs": [],
   "source": [
    "# initilize model\n",
    "model.initialize()"
   ]
  },
  {
   "cell_type": "code",
   "execution_count": 8,
   "metadata": {},
   "outputs": [
    {
     "name": "stdout",
     "output_type": "stream",
     "text": [
      "74.0\n",
      "12.0\n",
      "0.16875\n",
      "49.000000000000036\n"
     ]
    }
   ],
   "source": [
    "print(model.Crop.Ksccx_in*CCx)\n",
    "print(100-100*model.Crop.Ksexpf_es[0])\n",
    "print(100*model.Crop.fcdecline_es[0])\n",
    "print(100-100*model.Crop.Kswp_es[0])"
   ]
  },
  {
   "cell_type": "code",
   "execution_count": 9,
   "metadata": {},
   "outputs": [],
   "source": [
    "sf_es=model.Crop.sf_es\n",
    "Ksexpf_es=model.Crop.Ksexpf_es\n",
    "fcdecline_es=model.Crop.fcdecline_es\n",
    "Kswp_es=model.Crop.Kswp_es\n",
    "Ksccx_es=model.Crop.Ksccx_es\n",
    "relbio_es=model.Crop.relbio_es"
   ]
  },
  {
   "cell_type": "code",
   "execution_count": 10,
   "metadata": {},
   "outputs": [
    {
     "data": {
      "text/plain": [
       "[<matplotlib.lines.Line2D at 0x1e247091e80>]"
      ]
     },
     "execution_count": 10,
     "metadata": {},
     "output_type": "execute_result"
    },
    {
     "data": {
      "image/png": "[encoded data removed]",
      "text/plain": [
       "<Figure size 432x288 with 1 Axes>"
      ]
     },
     "metadata": {
      "needs_background": "light"
     },
     "output_type": "display_data"
    }
   ],
   "source": [
    "import matplotlib.pyplot as plt\n",
    "plt.plot(sf_es[1:100], relbio_es[1:100])\n"
   ]
  },
  {
   "cell_type": "code",
   "execution_count": 11,
   "metadata": {},
   "outputs": [
    {
     "data": {
      "text/plain": [
       "array([0.39205947, 0.        , 0.01      , 0.02      , 0.03      ,\n",
       "       0.04      , 0.05      , 0.06      , 0.07      , 0.08      ,\n",
       "       0.09      , 0.1       , 0.11      , 0.12      , 0.13      ,\n",
       "       0.14      , 0.15      , 0.16      , 0.17      , 0.18      ,\n",
       "       0.19      , 0.2       , 0.21      , 0.22      , 0.23      ,\n",
       "       0.24      , 0.25      , 0.26      , 0.27      , 0.28      ,\n",
       "       0.29      , 0.3       , 0.31      , 0.32      , 0.33      ,\n",
       "       0.34      , 0.35      , 0.36      , 0.37      , 0.38      ,\n",
       "       0.39      , 0.4       , 0.41      , 0.42      , 0.43      ,\n",
       "       0.44      , 0.45      , 0.46      , 0.47      , 0.48      ,\n",
       "       0.49      , 0.5       , 0.51      , 0.52      , 0.53      ,\n",
       "       0.54      , 0.55      , 0.56      , 0.57      , 0.58      ,\n",
       "       0.59      , 0.6       , 0.61      , 0.62      , 0.63      ,\n",
       "       0.64      , 0.65      , 0.66      , 0.67      , 0.68      ,\n",
       "       0.69      , 0.7       , 0.71      , 0.72      , 0.73      ,\n",
       "       0.74      , 0.75      , 0.76      , 0.77      , 0.78      ,\n",
       "       0.79      , 0.8       , 0.81      , 0.82      , 0.83      ,\n",
       "       0.84      , 0.85      , 0.86      , 0.87      , 0.88      ,\n",
       "       0.89      , 0.9       , 0.91      , 0.92      , 0.93      ,\n",
       "       0.94      , 0.95      , 0.96      , 0.97      , 0.98      ])"
      ]
     },
     "execution_count": 11,
     "metadata": {},
     "output_type": "execute_result"
    }
   ],
   "source": [
    "sf_es[0:100]"
   ]
  },
  {
   "cell_type": "code",
   "execution_count": 12,
   "metadata": {},
   "outputs": [
    {
     "data": {
      "text/plain": [
       "array([0.60794053, 1.        , 0.992255  , 0.98436695, 0.9763697 ,\n",
       "       0.96821644, 0.96065862, 0.95230817, 0.9437672 , 0.93517882,\n",
       "       0.92639973, 0.91748211, 0.90857076, 0.89943082, 0.89029335,\n",
       "       0.88094347, 0.87146014, 0.86203282, 0.852356  , 0.84254769,\n",
       "       0.8328526 , 0.82286771, 0.8127538 , 0.80350331, 0.79296313,\n",
       "       0.78217257, 0.77155794, 0.76054284, 0.74939704, 0.73854246,\n",
       "       0.72727421, 0.71589643, 0.70485314, 0.69337802, 0.68179918,\n",
       "       0.6712089 , 0.6595514 , 0.647796  , 0.63645311, 0.62464728,\n",
       "       0.61274939, 0.60127263, 0.58934502, 0.57787276, 0.56629334,\n",
       "       0.55427098, 0.54217714, 0.5300146 , 0.51841314, 0.5062814 ,\n",
       "       0.49454029, 0.48229704, 0.47073909, 0.4585687 , 0.44636497,\n",
       "       0.4344542 , 0.42296463, 0.41083989, 0.3987104 , 0.38676825,\n",
       "       0.37535951, 0.3633894 , 0.35146761, 0.3395589 , 0.32769998,\n",
       "       0.31569684, 0.30398084, 0.29277136, 0.28135383, 0.27004509,\n",
       "       0.25811266, 0.2461687 , 0.23551737, 0.22404068, 0.21248257,\n",
       "       0.20273628, 0.19117597, 0.20727392, 0.19589564, 0.18559265,\n",
       "       0.17540759, 0.1654296 , 0.15461343, 0.14510913, 0.13566552,\n",
       "       0.12579489, 0.11662662, 0.10696372, 0.09749452, 0.08912464,\n",
       "       0.08034069, 0.07186866, 0.06371369, 0.05584618, 0.04801601,\n",
       "       0.04076622, 0.033571  , 0.02670206, 0.01994335, 0.01327814])"
      ]
     },
     "execution_count": 12,
     "metadata": {},
     "output_type": "execute_result"
    }
   ],
   "source": [
    "relbio_es[0:100]"
   ]
  },
  {
   "cell_type": "code",
   "execution_count": 13,
   "metadata": {},
   "outputs": [],
   "source": [
    "p_com=np.sum(model.Crop.Kswp_es>0)"
   ]
  },
  {
   "cell_type": "code",
   "execution_count": null,
   "metadata": {},
   "outputs": [],
   "source": [
    "import plotly.express as px\n",
    "fig = px.scatter_3d(x=100-model.Crop.Ksexpf_es[0:p_com]*100, y=model.Crop.fcdecline_es[0:p_com]*100, z=100-model.Crop.Kswp_es[0:p_com]*100)\n",
    "fig.show()"
   ]
  },
  {
   "cell_type": "markdown",
   "metadata": {},
   "source": [
    "# Crop simulation"
   ]
  },
  {
   "cell_type": "code",
   "execution_count": 76,
   "metadata": {},
   "outputs": [],
   "source": [
    "potato = CropClass('Potato_t', PlantingDate='05/01')"
   ]
  },
  {
   "cell_type": "code",
   "execution_count": 11,
   "metadata": {
    "id": "ZqCvx9epJjwr"
   },
   "outputs": [],
   "source": [
    "ccx_=20\n",
    "cgc_=12\n",
    "dcc_=0.17\n",
    "wp_=52\n",
    "stress=40\n",
    "\n",
    "potato = CropClass('Potato_t', PlantingDate='05/01',Ksccx=1-ccx_/100,Ksexpf=1-cgc_/100,Kswp=1-wp_/100,fcdecline=dcc_/100,\\\n",
    "                 sfertstress=stress/100,sf_es=sf_es,Ksexpf_es=Ksexpf_es,fcdecline_es=fcdecline_es,Kswp_es=Kswp_es,\\\n",
    "                Ksccx_es=Ksccx_es,relbio_es=relbio_es)"
   ]
  },
  {
   "cell_type": "code",
   "execution_count": 12,
   "metadata": {
    "id": "3PvQ5QYR49tG"
   },
   "outputs": [],
   "source": [
    "InitWC = InitWCClass(value=['FC'])"
   ]
  },
  {
   "cell_type": "code",
   "execution_count": 13,
   "metadata": {},
   "outputs": [],
   "source": [
    "irr_mngt = IrrMngtClass(IrrMethod=0) # specify irrigation management"
   ]
  },
  {
   "cell_type": "code",
   "execution_count": 14,
   "metadata": {
    "id": "AOmiLw0eXDoZ"
   },
   "outputs": [],
   "source": [
    "# combine into aquacrop model and specify start and end simulation date\n",
    "model = AquaCropModel(SimStartTime=f'{1976}/05/01',\n",
    "                      SimEndTime=f'{1976}/07/24',\n",
    "                      wdf=weather_data,\n",
    "                      Soil=sandy_loam,\n",
    "                      Crop=potato,\n",
    "                      InitWC=InitWC,\n",
    "                      IrrMngt=irr_mngt)"
   ]
  },
  {
   "cell_type": "code",
   "execution_count": 15,
   "metadata": {
    "id": "huZOrZOxXDlj",
    "scrolled": true
   },
   "outputs": [],
   "source": [
    "# initilize model\n",
    "model.initialize()\n",
    "# run model till termination\n",
    "model.step(till_termination=True)"
   ]
  },
  {
   "cell_type": "code",
   "execution_count": 16,
   "metadata": {
    "colab": {
     "base_uri": "https://localhost:8080/",
     "height": 204
    },
    "id": "CsD30D0_psHY",
    "outputId": "df2261eb-30c2-40d5-867d-da38c7f812ac"
   },
   "outputs": [
    {
     "data": {
      "text/html": [
       "<div>\n",
       "<style scoped>\n",
       "    .dataframe tbody tr th:only-of-type {\n",
       "        vertical-align: middle;\n",
       "    }\n",
       "\n",
       "    .dataframe tbody tr th {\n",
       "        vertical-align: top;\n",
       "    }\n",
       "\n",
       "    .dataframe thead th {\n",
       "        text-align: right;\n",
       "    }\n",
       "</style>\n",
       "<table border=\"1\" class=\"dataframe\">\n",
       "  <thead>\n",
       "    <tr style=\"text-align: right;\">\n",
       "      <th></th>\n",
       "      <th>Season</th>\n",
       "      <th>Crop Type</th>\n",
       "      <th>Harvest Date (YYYY/MM/DD)</th>\n",
       "      <th>Harvest Date (Step)</th>\n",
       "      <th>Yield (tonne/ha)</th>\n",
       "      <th>Seasonal irrigation (mm)</th>\n",
       "    </tr>\n",
       "  </thead>\n",
       "  <tbody>\n",
       "    <tr>\n",
       "      <th>0</th>\n",
       "      <td>0</td>\n",
       "      <td>Potato_t</td>\n",
       "      <td>1976-07-24</td>\n",
       "      <td>83</td>\n",
       "      <td>3.422037</td>\n",
       "      <td>0.0</td>\n",
       "    </tr>\n",
       "  </tbody>\n",
       "</table>\n",
       "</div>"
      ],
      "text/plain": [
       "  Season Crop Type Harvest Date (YYYY/MM/DD) Harvest Date (Step)  \\\n",
       "0      0  Potato_t                1976-07-24                  83   \n",
       "\n",
       "   Yield (tonne/ha)  Seasonal irrigation (mm)  \n",
       "0          3.422037                       0.0  "
      ]
     },
     "execution_count": 16,
     "metadata": {},
     "output_type": "execute_result"
    }
   ],
   "source": [
    "# model.Outputs.Flux.head()\n",
    "# model.Outputs.Water.head()\n",
    "# model.Outputs.Growth.head()\n",
    "model.Outputs.Final.head()"
   ]
  },
  {
   "cell_type": "code",
   "execution_count": 17,
   "metadata": {
    "id": "I9Xt1kRUfTAr"
   },
   "outputs": [],
   "source": [
    "model.Outputs.Growth.to_csv('Growth_temp.csv')"
   ]
  },
  {
   "cell_type": "code",
   "execution_count": 18,
   "metadata": {},
   "outputs": [],
   "source": [
    "model.Outputs.Flux.to_csv('Flux_temp.csv')"
   ]
  },
  {
   "cell_type": "code",
   "execution_count": 19,
   "metadata": {},
   "outputs": [
    {
     "data": {
      "text/plain": [
       "SeasonCounter\n",
       "0.0    162.42396\n",
       "Name: Tr, dtype: float64"
      ]
     },
     "execution_count": 19,
     "metadata": {},
     "output_type": "execute_result"
    }
   ],
   "source": [
    "model.Outputs.Flux.groupby('SeasonCounter').sum()['Tr']"
   ]
  },
  {
   "cell_type": "code",
   "execution_count": 20,
   "metadata": {},
   "outputs": [
    {
     "data": {
      "text/html": [
       "<div>\n",
       "<style scoped>\n",
       "    .dataframe tbody tr th:only-of-type {\n",
       "        vertical-align: middle;\n",
       "    }\n",
       "\n",
       "    .dataframe tbody tr th {\n",
       "        vertical-align: top;\n",
       "    }\n",
       "\n",
       "    .dataframe thead th {\n",
       "        text-align: right;\n",
       "    }\n",
       "</style>\n",
       "<table border=\"1\" class=\"dataframe\">\n",
       "  <thead>\n",
       "    <tr style=\"text-align: right;\">\n",
       "      <th></th>\n",
       "      <th>TimeStepCounter</th>\n",
       "      <th>SeasonCounter</th>\n",
       "      <th>DAP</th>\n",
       "      <th>GDD</th>\n",
       "      <th>GDDcum</th>\n",
       "      <th>Zroot</th>\n",
       "      <th>CC</th>\n",
       "      <th>CC_NS</th>\n",
       "      <th>B</th>\n",
       "      <th>B_NS</th>\n",
       "      <th>HI</th>\n",
       "      <th>HIadj</th>\n",
       "      <th>Y</th>\n",
       "      <th>Tr</th>\n",
       "      <th>TrPot_NS</th>\n",
       "      <th>TrPot</th>\n",
       "      <th>Tr/Et0</th>\n",
       "      <th>NewCond.WPadj</th>\n",
       "    </tr>\n",
       "  </thead>\n",
       "  <tbody>\n",
       "    <tr>\n",
       "      <th>0</th>\n",
       "      <td>0.0</td>\n",
       "      <td>0.0</td>\n",
       "      <td>1.0</td>\n",
       "      <td>6.95</td>\n",
       "      <td>6.95</td>\n",
       "      <td>0.30000</td>\n",
       "      <td>0.000000</td>\n",
       "      <td>0.000000</td>\n",
       "      <td>0.000000</td>\n",
       "      <td>0.000000</td>\n",
       "      <td>0.000000</td>\n",
       "      <td>0.000000</td>\n",
       "      <td>0.000000</td>\n",
       "      <td>0.000000</td>\n",
       "      <td>0.000000</td>\n",
       "      <td>0.000000</td>\n",
       "      <td>0.000000</td>\n",
       "      <td>16.263900</td>\n",
       "    </tr>\n",
       "    <tr>\n",
       "      <th>1</th>\n",
       "      <td>1.0</td>\n",
       "      <td>0.0</td>\n",
       "      <td>2.0</td>\n",
       "      <td>7.50</td>\n",
       "      <td>14.45</td>\n",
       "      <td>0.30000</td>\n",
       "      <td>0.000000</td>\n",
       "      <td>0.000000</td>\n",
       "      <td>0.000000</td>\n",
       "      <td>0.000000</td>\n",
       "      <td>0.000000</td>\n",
       "      <td>0.000000</td>\n",
       "      <td>0.000000</td>\n",
       "      <td>0.000000</td>\n",
       "      <td>0.000000</td>\n",
       "      <td>0.000000</td>\n",
       "      <td>0.000000</td>\n",
       "      <td>16.263900</td>\n",
       "    </tr>\n",
       "    <tr>\n",
       "      <th>2</th>\n",
       "      <td>2.0</td>\n",
       "      <td>0.0</td>\n",
       "      <td>3.0</td>\n",
       "      <td>8.10</td>\n",
       "      <td>22.55</td>\n",
       "      <td>0.30000</td>\n",
       "      <td>0.000000</td>\n",
       "      <td>0.000000</td>\n",
       "      <td>0.000000</td>\n",
       "      <td>0.000000</td>\n",
       "      <td>0.000000</td>\n",
       "      <td>0.000000</td>\n",
       "      <td>0.000000</td>\n",
       "      <td>0.000000</td>\n",
       "      <td>0.000000</td>\n",
       "      <td>0.000000</td>\n",
       "      <td>0.000000</td>\n",
       "      <td>16.263900</td>\n",
       "    </tr>\n",
       "    <tr>\n",
       "      <th>3</th>\n",
       "      <td>3.0</td>\n",
       "      <td>0.0</td>\n",
       "      <td>4.0</td>\n",
       "      <td>8.95</td>\n",
       "      <td>31.50</td>\n",
       "      <td>0.30000</td>\n",
       "      <td>0.000000</td>\n",
       "      <td>0.000000</td>\n",
       "      <td>0.000000</td>\n",
       "      <td>0.000000</td>\n",
       "      <td>0.000000</td>\n",
       "      <td>0.000000</td>\n",
       "      <td>0.000000</td>\n",
       "      <td>0.000000</td>\n",
       "      <td>0.000000</td>\n",
       "      <td>0.000000</td>\n",
       "      <td>0.000000</td>\n",
       "      <td>16.263900</td>\n",
       "    </tr>\n",
       "    <tr>\n",
       "      <th>4</th>\n",
       "      <td>4.0</td>\n",
       "      <td>0.0</td>\n",
       "      <td>5.0</td>\n",
       "      <td>12.30</td>\n",
       "      <td>43.80</td>\n",
       "      <td>0.30000</td>\n",
       "      <td>0.000000</td>\n",
       "      <td>0.000000</td>\n",
       "      <td>0.000000</td>\n",
       "      <td>0.000000</td>\n",
       "      <td>0.000000</td>\n",
       "      <td>0.000000</td>\n",
       "      <td>0.000000</td>\n",
       "      <td>0.000000</td>\n",
       "      <td>0.000000</td>\n",
       "      <td>0.000000</td>\n",
       "      <td>0.000000</td>\n",
       "      <td>16.263900</td>\n",
       "    </tr>\n",
       "    <tr>\n",
       "      <th>...</th>\n",
       "      <td>...</td>\n",
       "      <td>...</td>\n",
       "      <td>...</td>\n",
       "      <td>...</td>\n",
       "      <td>...</td>\n",
       "      <td>...</td>\n",
       "      <td>...</td>\n",
       "      <td>...</td>\n",
       "      <td>...</td>\n",
       "      <td>...</td>\n",
       "      <td>...</td>\n",
       "      <td>...</td>\n",
       "      <td>...</td>\n",
       "      <td>...</td>\n",
       "      <td>...</td>\n",
       "      <td>...</td>\n",
       "      <td>...</td>\n",
       "      <td>...</td>\n",
       "    </tr>\n",
       "    <tr>\n",
       "      <th>80</th>\n",
       "      <td>80.0</td>\n",
       "      <td>0.0</td>\n",
       "      <td>81.0</td>\n",
       "      <td>18.25</td>\n",
       "      <td>1246.90</td>\n",
       "      <td>1.49381</td>\n",
       "      <td>0.679509</td>\n",
       "      <td>0.679509</td>\n",
       "      <td>447.898946</td>\n",
       "      <td>474.982046</td>\n",
       "      <td>0.727409</td>\n",
       "      <td>0.717635</td>\n",
       "      <td>3.214280</td>\n",
       "      <td>1.902447</td>\n",
       "      <td>1.912071</td>\n",
       "      <td>1.902447</td>\n",
       "      <td>0.827151</td>\n",
       "      <td>8.679715</td>\n",
       "    </tr>\n",
       "    <tr>\n",
       "      <th>81</th>\n",
       "      <td>81.0</td>\n",
       "      <td>0.0</td>\n",
       "      <td>82.0</td>\n",
       "      <td>11.35</td>\n",
       "      <td>1258.25</td>\n",
       "      <td>1.49381</td>\n",
       "      <td>0.678060</td>\n",
       "      <td>0.678060</td>\n",
       "      <td>455.045932</td>\n",
       "      <td>484.415130</td>\n",
       "      <td>0.731690</td>\n",
       "      <td>0.722125</td>\n",
       "      <td>3.286000</td>\n",
       "      <td>0.905754</td>\n",
       "      <td>0.910340</td>\n",
       "      <td>0.905754</td>\n",
       "      <td>0.823412</td>\n",
       "      <td>8.679715</td>\n",
       "    </tr>\n",
       "    <tr>\n",
       "      <th>82</th>\n",
       "      <td>82.0</td>\n",
       "      <td>0.0</td>\n",
       "      <td>83.0</td>\n",
       "      <td>13.70</td>\n",
       "      <td>1271.95</td>\n",
       "      <td>1.49381</td>\n",
       "      <td>0.676264</td>\n",
       "      <td>0.676264</td>\n",
       "      <td>462.154507</td>\n",
       "      <td>493.848213</td>\n",
       "      <td>0.750000</td>\n",
       "      <td>0.740453</td>\n",
       "      <td>3.422037</td>\n",
       "      <td>2.293164</td>\n",
       "      <td>2.304788</td>\n",
       "      <td>2.293164</td>\n",
       "      <td>0.818987</td>\n",
       "      <td>8.679715</td>\n",
       "    </tr>\n",
       "    <tr>\n",
       "      <th>83</th>\n",
       "      <td>83.0</td>\n",
       "      <td>0.0</td>\n",
       "      <td>84.0</td>\n",
       "      <td>13.55</td>\n",
       "      <td>1285.50</td>\n",
       "      <td>1.49381</td>\n",
       "      <td>0.000000</td>\n",
       "      <td>0.000000</td>\n",
       "      <td>462.154507</td>\n",
       "      <td>503.281297</td>\n",
       "      <td>0.750000</td>\n",
       "      <td>0.740453</td>\n",
       "      <td>3.422037</td>\n",
       "      <td>0.000000</td>\n",
       "      <td>0.000000</td>\n",
       "      <td>0.000000</td>\n",
       "      <td>0.000000</td>\n",
       "      <td>8.679715</td>\n",
       "    </tr>\n",
       "    <tr>\n",
       "      <th>84</th>\n",
       "      <td>0.0</td>\n",
       "      <td>0.0</td>\n",
       "      <td>0.0</td>\n",
       "      <td>0.00</td>\n",
       "      <td>0.00</td>\n",
       "      <td>0.00000</td>\n",
       "      <td>0.000000</td>\n",
       "      <td>0.000000</td>\n",
       "      <td>0.000000</td>\n",
       "      <td>0.000000</td>\n",
       "      <td>0.000000</td>\n",
       "      <td>0.000000</td>\n",
       "      <td>0.000000</td>\n",
       "      <td>0.000000</td>\n",
       "      <td>0.000000</td>\n",
       "      <td>0.000000</td>\n",
       "      <td>0.000000</td>\n",
       "      <td>0.000000</td>\n",
       "    </tr>\n",
       "  </tbody>\n",
       "</table>\n",
       "<p>85 rows × 18 columns</p>\n",
       "</div>"
      ],
      "text/plain": [
       "    TimeStepCounter  SeasonCounter   DAP    GDD   GDDcum    Zroot        CC  \\\n",
       "0               0.0            0.0   1.0   6.95     6.95  0.30000  0.000000   \n",
       "1               1.0            0.0   2.0   7.50    14.45  0.30000  0.000000   \n",
       "2               2.0            0.0   3.0   8.10    22.55  0.30000  0.000000   \n",
       "3               3.0            0.0   4.0   8.95    31.50  0.30000  0.000000   \n",
       "4               4.0            0.0   5.0  12.30    43.80  0.30000  0.000000   \n",
       "..              ...            ...   ...    ...      ...      ...       ...   \n",
       "80             80.0            0.0  81.0  18.25  1246.90  1.49381  0.679509   \n",
       "81             81.0            0.0  82.0  11.35  1258.25  1.49381  0.678060   \n",
       "82             82.0            0.0  83.0  13.70  1271.95  1.49381  0.676264   \n",
       "83             83.0            0.0  84.0  13.55  1285.50  1.49381  0.000000   \n",
       "84              0.0            0.0   0.0   0.00     0.00  0.00000  0.000000   \n",
       "\n",
       "       CC_NS           B        B_NS        HI     HIadj         Y        Tr  \\\n",
       "0   0.000000    0.000000    0.000000  0.000000  0.000000  0.000000  0.000000   \n",
       "1   0.000000    0.000000    0.000000  0.000000  0.000000  0.000000  0.000000   \n",
       "2   0.000000    0.000000    0.000000  0.000000  0.000000  0.000000  0.000000   \n",
       "3   0.000000    0.000000    0.000000  0.000000  0.000000  0.000000  0.000000   \n",
       "4   0.000000    0.000000    0.000000  0.000000  0.000000  0.000000  0.000000   \n",
       "..       ...         ...         ...       ...       ...       ...       ...   \n",
       "80  0.679509  447.898946  474.982046  0.727409  0.717635  3.214280  1.902447   \n",
       "81  0.678060  455.045932  484.415130  0.731690  0.722125  3.286000  0.905754   \n",
       "82  0.676264  462.154507  493.848213  0.750000  0.740453  3.422037  2.293164   \n",
       "83  0.000000  462.154507  503.281297  0.750000  0.740453  3.422037  0.000000   \n",
       "84  0.000000    0.000000    0.000000  0.000000  0.000000  0.000000  0.000000   \n",
       "\n",
       "    TrPot_NS     TrPot    Tr/Et0  NewCond.WPadj  \n",
       "0   0.000000  0.000000  0.000000      16.263900  \n",
       "1   0.000000  0.000000  0.000000      16.263900  \n",
       "2   0.000000  0.000000  0.000000      16.263900  \n",
       "3   0.000000  0.000000  0.000000      16.263900  \n",
       "4   0.000000  0.000000  0.000000      16.263900  \n",
       "..       ...       ...       ...            ...  \n",
       "80  1.912071  1.902447  0.827151       8.679715  \n",
       "81  0.910340  0.905754  0.823412       8.679715  \n",
       "82  2.304788  2.293164  0.818987       8.679715  \n",
       "83  0.000000  0.000000  0.000000       8.679715  \n",
       "84  0.000000  0.000000  0.000000       0.000000  \n",
       "\n",
       "[85 rows x 18 columns]"
      ]
     },
     "execution_count": 20,
     "metadata": {},
     "output_type": "execute_result"
    }
   ],
   "source": [
    "model.Outputs.Growth"
   ]
  },
  {
   "cell_type": "code",
   "execution_count": 21,
   "metadata": {},
   "outputs": [
    {
     "data": {
      "text/plain": [
       "<matplotlib.legend.Legend at 0x1e247298820>"
      ]
     },
     "execution_count": 21,
     "metadata": {},
     "output_type": "execute_result"
    },
    {
     "data": {
      "image/png": "[encoded data removed]",
      "text/plain": [
       "<Figure size 1440x720 with 1 Axes>"
      ]
     },
     "metadata": {
      "needs_background": "light"
     },
     "output_type": "display_data"
    }
   ],
   "source": [
    "time=np.array(range(1,len(model.Outputs.Growth.index)))\n",
    "plt.figure(figsize=(20,10))\n",
    "plt.rcParams.update({'font.size': 22})\n",
    "plt.plot(time,model.Outputs.Growth.loc[time,'CC']*100,label='PY')\n",
    "plt.legend()"
   ]
  },
  {
   "cell_type": "code",
   "execution_count": 22,
   "metadata": {},
   "outputs": [],
   "source": [
    "aq=pd.read_table('M:\\AquaCropV61\\AquaCropV61Nr02052018\\SIMUL\\Crop.OUT',skiprows=4, delim_whitespace=True,encoding=\"latin1\")\n",
    "aq=aq.drop([0])"
   ]
  },
  {
   "cell_type": "code",
   "execution_count": 23,
   "metadata": {},
   "outputs": [],
   "source": [
    "aq.to_csv('aq_temp.csv')"
   ]
  },
  {
   "cell_type": "code",
   "execution_count": 24,
   "metadata": {},
   "outputs": [],
   "source": [
    "aq=pd.read_csv('aq_temp.csv')"
   ]
  },
  {
   "cell_type": "code",
   "execution_count": 25,
   "metadata": {},
   "outputs": [],
   "source": [
    "import matplotlib.pyplot as plt"
   ]
  },
  {
   "cell_type": "code",
   "execution_count": 26,
   "metadata": {},
   "outputs": [
    {
     "data": {
      "text/html": [
       "<div>\n",
       "<style scoped>\n",
       "    .dataframe tbody tr th:only-of-type {\n",
       "        vertical-align: middle;\n",
       "    }\n",
       "\n",
       "    .dataframe tbody tr th {\n",
       "        vertical-align: top;\n",
       "    }\n",
       "\n",
       "    .dataframe thead th {\n",
       "        text-align: right;\n",
       "    }\n",
       "</style>\n",
       "<table border=\"1\" class=\"dataframe\">\n",
       "  <thead>\n",
       "    <tr style=\"text-align: right;\">\n",
       "      <th></th>\n",
       "      <th>Unnamed: 0</th>\n",
       "      <th>Day</th>\n",
       "      <th>Month</th>\n",
       "      <th>Year</th>\n",
       "      <th>DAP</th>\n",
       "      <th>Stage</th>\n",
       "      <th>GD</th>\n",
       "      <th>Z</th>\n",
       "      <th>StExp</th>\n",
       "      <th>StSto</th>\n",
       "      <th>...</th>\n",
       "      <th>Trx</th>\n",
       "      <th>Tr</th>\n",
       "      <th>TrW</th>\n",
       "      <th>Tr/Trx</th>\n",
       "      <th>WP</th>\n",
       "      <th>Biomass</th>\n",
       "      <th>HI</th>\n",
       "      <th>YieldPart</th>\n",
       "      <th>Brelative</th>\n",
       "      <th>WPet</th>\n",
       "    </tr>\n",
       "  </thead>\n",
       "  <tbody>\n",
       "    <tr>\n",
       "      <th>0</th>\n",
       "      <td>1</td>\n",
       "      <td>1</td>\n",
       "      <td>5</td>\n",
       "      <td>1976</td>\n",
       "      <td>1</td>\n",
       "      <td>1</td>\n",
       "      <td>6.9</td>\n",
       "      <td>0.30</td>\n",
       "      <td>-9</td>\n",
       "      <td>-9</td>\n",
       "      <td>...</td>\n",
       "      <td>0.0</td>\n",
       "      <td>0.0</td>\n",
       "      <td>0.0</td>\n",
       "      <td>100</td>\n",
       "      <td>16.3</td>\n",
       "      <td>0.000</td>\n",
       "      <td>-9.9</td>\n",
       "      <td>0.000</td>\n",
       "      <td>-9.0</td>\n",
       "      <td>0.00</td>\n",
       "    </tr>\n",
       "    <tr>\n",
       "      <th>1</th>\n",
       "      <td>2</td>\n",
       "      <td>2</td>\n",
       "      <td>5</td>\n",
       "      <td>1976</td>\n",
       "      <td>2</td>\n",
       "      <td>1</td>\n",
       "      <td>7.5</td>\n",
       "      <td>0.30</td>\n",
       "      <td>-9</td>\n",
       "      <td>-9</td>\n",
       "      <td>...</td>\n",
       "      <td>0.0</td>\n",
       "      <td>0.0</td>\n",
       "      <td>0.0</td>\n",
       "      <td>100</td>\n",
       "      <td>16.3</td>\n",
       "      <td>0.000</td>\n",
       "      <td>-9.9</td>\n",
       "      <td>0.000</td>\n",
       "      <td>-9.0</td>\n",
       "      <td>0.00</td>\n",
       "    </tr>\n",
       "    <tr>\n",
       "      <th>2</th>\n",
       "      <td>3</td>\n",
       "      <td>3</td>\n",
       "      <td>5</td>\n",
       "      <td>1976</td>\n",
       "      <td>3</td>\n",
       "      <td>1</td>\n",
       "      <td>8.1</td>\n",
       "      <td>0.30</td>\n",
       "      <td>-9</td>\n",
       "      <td>-9</td>\n",
       "      <td>...</td>\n",
       "      <td>0.0</td>\n",
       "      <td>0.0</td>\n",
       "      <td>0.0</td>\n",
       "      <td>100</td>\n",
       "      <td>16.3</td>\n",
       "      <td>0.000</td>\n",
       "      <td>-9.9</td>\n",
       "      <td>0.000</td>\n",
       "      <td>-9.0</td>\n",
       "      <td>0.00</td>\n",
       "    </tr>\n",
       "    <tr>\n",
       "      <th>3</th>\n",
       "      <td>4</td>\n",
       "      <td>4</td>\n",
       "      <td>5</td>\n",
       "      <td>1976</td>\n",
       "      <td>4</td>\n",
       "      <td>1</td>\n",
       "      <td>8.9</td>\n",
       "      <td>0.30</td>\n",
       "      <td>-9</td>\n",
       "      <td>-9</td>\n",
       "      <td>...</td>\n",
       "      <td>0.0</td>\n",
       "      <td>0.0</td>\n",
       "      <td>0.0</td>\n",
       "      <td>100</td>\n",
       "      <td>16.3</td>\n",
       "      <td>0.000</td>\n",
       "      <td>-9.9</td>\n",
       "      <td>0.000</td>\n",
       "      <td>-9.0</td>\n",
       "      <td>0.00</td>\n",
       "    </tr>\n",
       "    <tr>\n",
       "      <th>4</th>\n",
       "      <td>5</td>\n",
       "      <td>5</td>\n",
       "      <td>5</td>\n",
       "      <td>1976</td>\n",
       "      <td>5</td>\n",
       "      <td>1</td>\n",
       "      <td>12.3</td>\n",
       "      <td>0.30</td>\n",
       "      <td>-9</td>\n",
       "      <td>-9</td>\n",
       "      <td>...</td>\n",
       "      <td>0.0</td>\n",
       "      <td>0.0</td>\n",
       "      <td>0.0</td>\n",
       "      <td>100</td>\n",
       "      <td>16.3</td>\n",
       "      <td>0.000</td>\n",
       "      <td>-9.9</td>\n",
       "      <td>0.000</td>\n",
       "      <td>-9.0</td>\n",
       "      <td>0.00</td>\n",
       "    </tr>\n",
       "    <tr>\n",
       "      <th>...</th>\n",
       "      <td>...</td>\n",
       "      <td>...</td>\n",
       "      <td>...</td>\n",
       "      <td>...</td>\n",
       "      <td>...</td>\n",
       "      <td>...</td>\n",
       "      <td>...</td>\n",
       "      <td>...</td>\n",
       "      <td>...</td>\n",
       "      <td>...</td>\n",
       "      <td>...</td>\n",
       "      <td>...</td>\n",
       "      <td>...</td>\n",
       "      <td>...</td>\n",
       "      <td>...</td>\n",
       "      <td>...</td>\n",
       "      <td>...</td>\n",
       "      <td>...</td>\n",
       "      <td>...</td>\n",
       "      <td>...</td>\n",
       "      <td>...</td>\n",
       "    </tr>\n",
       "    <tr>\n",
       "      <th>79</th>\n",
       "      <td>80</td>\n",
       "      <td>19</td>\n",
       "      <td>7</td>\n",
       "      <td>1976</td>\n",
       "      <td>80</td>\n",
       "      <td>4</td>\n",
       "      <td>17.9</td>\n",
       "      <td>1.49</td>\n",
       "      <td>-9</td>\n",
       "      <td>0</td>\n",
       "      <td>...</td>\n",
       "      <td>3.7</td>\n",
       "      <td>3.7</td>\n",
       "      <td>3.7</td>\n",
       "      <td>100</td>\n",
       "      <td>8.3</td>\n",
       "      <td>4.294</td>\n",
       "      <td>70.7</td>\n",
       "      <td>3.036</td>\n",
       "      <td>57.0</td>\n",
       "      <td>1.39</td>\n",
       "    </tr>\n",
       "    <tr>\n",
       "      <th>80</th>\n",
       "      <td>81</td>\n",
       "      <td>20</td>\n",
       "      <td>7</td>\n",
       "      <td>1976</td>\n",
       "      <td>81</td>\n",
       "      <td>4</td>\n",
       "      <td>18.3</td>\n",
       "      <td>1.49</td>\n",
       "      <td>-9</td>\n",
       "      <td>0</td>\n",
       "      <td>...</td>\n",
       "      <td>1.9</td>\n",
       "      <td>1.9</td>\n",
       "      <td>1.9</td>\n",
       "      <td>100</td>\n",
       "      <td>8.3</td>\n",
       "      <td>4.363</td>\n",
       "      <td>71.3</td>\n",
       "      <td>3.113</td>\n",
       "      <td>56.0</td>\n",
       "      <td>1.41</td>\n",
       "    </tr>\n",
       "    <tr>\n",
       "      <th>81</th>\n",
       "      <td>82</td>\n",
       "      <td>21</td>\n",
       "      <td>7</td>\n",
       "      <td>1976</td>\n",
       "      <td>82</td>\n",
       "      <td>4</td>\n",
       "      <td>11.3</td>\n",
       "      <td>1.49</td>\n",
       "      <td>-9</td>\n",
       "      <td>0</td>\n",
       "      <td>...</td>\n",
       "      <td>0.9</td>\n",
       "      <td>0.9</td>\n",
       "      <td>0.9</td>\n",
       "      <td>100</td>\n",
       "      <td>8.5</td>\n",
       "      <td>4.433</td>\n",
       "      <td>71.9</td>\n",
       "      <td>3.185</td>\n",
       "      <td>56.0</td>\n",
       "      <td>1.44</td>\n",
       "    </tr>\n",
       "    <tr>\n",
       "      <th>82</th>\n",
       "      <td>83</td>\n",
       "      <td>22</td>\n",
       "      <td>7</td>\n",
       "      <td>1976</td>\n",
       "      <td>83</td>\n",
       "      <td>4</td>\n",
       "      <td>13.7</td>\n",
       "      <td>1.49</td>\n",
       "      <td>-9</td>\n",
       "      <td>0</td>\n",
       "      <td>...</td>\n",
       "      <td>2.3</td>\n",
       "      <td>2.3</td>\n",
       "      <td>2.3</td>\n",
       "      <td>100</td>\n",
       "      <td>8.5</td>\n",
       "      <td>4.503</td>\n",
       "      <td>72.3</td>\n",
       "      <td>3.255</td>\n",
       "      <td>56.0</td>\n",
       "      <td>1.45</td>\n",
       "    </tr>\n",
       "    <tr>\n",
       "      <th>83</th>\n",
       "      <td>84</td>\n",
       "      <td>23</td>\n",
       "      <td>7</td>\n",
       "      <td>1976</td>\n",
       "      <td>84</td>\n",
       "      <td>4</td>\n",
       "      <td>13.5</td>\n",
       "      <td>1.49</td>\n",
       "      <td>-9</td>\n",
       "      <td>-9</td>\n",
       "      <td>...</td>\n",
       "      <td>0.0</td>\n",
       "      <td>0.0</td>\n",
       "      <td>0.0</td>\n",
       "      <td>100</td>\n",
       "      <td>8.5</td>\n",
       "      <td>4.503</td>\n",
       "      <td>74.0</td>\n",
       "      <td>3.334</td>\n",
       "      <td>NaN</td>\n",
       "      <td>NaN</td>\n",
       "    </tr>\n",
       "  </tbody>\n",
       "</table>\n",
       "<p>84 rows × 27 columns</p>\n",
       "</div>"
      ],
      "text/plain": [
       "    Unnamed: 0  Day  Month  Year  DAP  Stage    GD     Z  StExp  StSto  ...  \\\n",
       "0            1    1      5  1976    1      1   6.9  0.30     -9     -9  ...   \n",
       "1            2    2      5  1976    2      1   7.5  0.30     -9     -9  ...   \n",
       "2            3    3      5  1976    3      1   8.1  0.30     -9     -9  ...   \n",
       "3            4    4      5  1976    4      1   8.9  0.30     -9     -9  ...   \n",
       "4            5    5      5  1976    5      1  12.3  0.30     -9     -9  ...   \n",
       "..         ...  ...    ...   ...  ...    ...   ...   ...    ...    ...  ...   \n",
       "79          80   19      7  1976   80      4  17.9  1.49     -9      0  ...   \n",
       "80          81   20      7  1976   81      4  18.3  1.49     -9      0  ...   \n",
       "81          82   21      7  1976   82      4  11.3  1.49     -9      0  ...   \n",
       "82          83   22      7  1976   83      4  13.7  1.49     -9      0  ...   \n",
       "83          84   23      7  1976   84      4  13.5  1.49     -9     -9  ...   \n",
       "\n",
       "    Trx   Tr  TrW  Tr/Trx    WP  Biomass    HI  YieldPart  Brelative  WPet  \n",
       "0   0.0  0.0  0.0     100  16.3    0.000  -9.9      0.000       -9.0  0.00  \n",
       "1   0.0  0.0  0.0     100  16.3    0.000  -9.9      0.000       -9.0  0.00  \n",
       "2   0.0  0.0  0.0     100  16.3    0.000  -9.9      0.000       -9.0  0.00  \n",
       "3   0.0  0.0  0.0     100  16.3    0.000  -9.9      0.000       -9.0  0.00  \n",
       "4   0.0  0.0  0.0     100  16.3    0.000  -9.9      0.000       -9.0  0.00  \n",
       "..  ...  ...  ...     ...   ...      ...   ...        ...        ...   ...  \n",
       "79  3.7  3.7  3.7     100   8.3    4.294  70.7      3.036       57.0  1.39  \n",
       "80  1.9  1.9  1.9     100   8.3    4.363  71.3      3.113       56.0  1.41  \n",
       "81  0.9  0.9  0.9     100   8.5    4.433  71.9      3.185       56.0  1.44  \n",
       "82  2.3  2.3  2.3     100   8.5    4.503  72.3      3.255       56.0  1.45  \n",
       "83  0.0  0.0  0.0     100   8.5    4.503  74.0      3.334        NaN   NaN  \n",
       "\n",
       "[84 rows x 27 columns]"
      ]
     },
     "execution_count": 26,
     "metadata": {},
     "output_type": "execute_result"
    }
   ],
   "source": [
    "aq"
   ]
  },
  {
   "cell_type": "code",
   "execution_count": 27,
   "metadata": {},
   "outputs": [
    {
     "data": {
      "text/plain": [
       "<matplotlib.legend.Legend at 0x2062f241400>"
      ]
     },
     "execution_count": 27,
     "metadata": {},
     "output_type": "execute_result"
    },
    {
     "data": {
      "image/png": "[encoded data removed]",
      "text/plain": [
       "<Figure size 1440x720 with 1 Axes>"
      ]
     },
     "metadata": {
      "needs_background": "light"
     },
     "output_type": "display_data"
    }
   ],
   "source": [
    "time=np.array(range(1,len(aq.index)))\n",
    "plt.figure(figsize=(20,10))\n",
    "plt.rcParams.update({'font.size': 22})\n",
    "plt.plot(time,aq.loc[time,'CC'],label='Win')\n",
    "plt.plot(time,model.Outputs.Growth.loc[time,'CC']*100,label='PY')\n",
    "plt.legend()"
   ]
  },
  {
   "cell_type": "code",
   "execution_count": 52,
   "metadata": {},
   "outputs": [
    {
     "data": {
      "text/plain": [
       "67"
      ]
     },
     "execution_count": 52,
     "metadata": {},
     "output_type": "execute_result"
    }
   ],
   "source": [
    "model.Crop.SenescenceCD"
   ]
  },
  {
   "cell_type": "code",
   "execution_count": 48,
   "metadata": {},
   "outputs": [
    {
     "data": {
      "text/plain": [
       "<matplotlib.legend.Legend at 0x13f4c58b340>"
      ]
     },
     "execution_count": 48,
     "metadata": {},
     "output_type": "execute_result"
    },
    {
     "data": {
      "text/plain": [
       "<Figure size 432x288 with 0 Axes>"
      ]
     },
     "metadata": {},
     "output_type": "display_data"
    },
    {
     "data": {
      "image/png": "[encoded data removed]",
      "text/plain": [
       "<Figure size 1440x720 with 1 Axes>"
      ]
     },
     "metadata": {
      "needs_background": "light"
     },
     "output_type": "display_data"
    }
   ],
   "source": [
    "plt.figure()\n",
    "plt.figure(figsize=(20,10))\n",
    "plt.plot(time,aq.loc[time,'Tr'],label='Win')\n",
    "plt.plot(time,model.Outputs.Growth.loc[time,'Tr'],label='PY')\n",
    "plt.legend()"
   ]
  },
  {
   "cell_type": "code",
   "execution_count": 49,
   "metadata": {},
   "outputs": [
    {
     "data": {
      "text/plain": [
       "<matplotlib.legend.Legend at 0x13f4e0309d0>"
      ]
     },
     "execution_count": 49,
     "metadata": {},
     "output_type": "execute_result"
    },
    {
     "data": {
      "text/plain": [
       "<Figure size 432x288 with 0 Axes>"
      ]
     },
     "metadata": {},
     "output_type": "display_data"
    },
    {
     "data": {
      "image/png": "[encoded data removed]",
      "text/plain": [
       "<Figure size 1440x720 with 1 Axes>"
      ]
     },
     "metadata": {
      "needs_background": "light"
     },
     "output_type": "display_data"
    }
   ],
   "source": [
    "plt.figure()\n",
    "plt.figure(figsize=(20,10))\n",
    "plt.plot(time,aq.loc[time,'Biomass'],label='Win')\n",
    "plt.plot(time,model.Outputs.Growth.loc[time,'B']/100,label='PY')\n",
    "plt.legend()"
   ]
  },
  {
   "cell_type": "code",
   "execution_count": 50,
   "metadata": {},
   "outputs": [
    {
     "data": {
      "text/plain": [
       "<matplotlib.legend.Legend at 0x13f4e38fd60>"
      ]
     },
     "execution_count": 50,
     "metadata": {},
     "output_type": "execute_result"
    },
    {
     "data": {
      "image/png": "[encoded data removed]",
      "text/plain": [
       "<Figure size 1440x720 with 1 Axes>"
      ]
     },
     "metadata": {
      "needs_background": "light"
     },
     "output_type": "display_data"
    }
   ],
   "source": [
    "#time=range(1,175)\n",
    "plt.figure(figsize=(20,10))\n",
    "plt.rcParams.update({'font.size': 22})\n",
    "plt.plot(time,aq.loc[time,'WP'],label='Win')\n",
    "plt.plot(time,model.Outputs.Growth.loc[time,'NewCond.WPadj'],label='PY')\n",
    "plt.legend()"
   ]
  },
  {
   "cell_type": "code",
   "execution_count": 31,
   "metadata": {},
   "outputs": [
    {
     "data": {
      "text/plain": [
       "<matplotlib.legend.Legend at 0x21cd0f8cbe0>"
      ]
     },
     "execution_count": 31,
     "metadata": {},
     "output_type": "execute_result"
    },
    {
     "data": {
      "image/png": "[encoded data removed]",
      "text/plain": [
       "<Figure size 1440x720 with 1 Axes>"
      ]
     },
     "metadata": {
      "needs_background": "light"
     },
     "output_type": "display_data"
    }
   ],
   "source": [
    "#time=range(1,175)\n",
    "plt.figure(figsize=(20,10))\n",
    "plt.rcParams.update({'font.size': 22})\n",
    "plt.plot(time,model.Crop.Bio_top[time]*model.Crop.WP*model.Crop.fCO2/100,label='Win')\n",
    "plt.plot(time,model.Outputs.Growth.loc[time,'B_NS']/100,label='PY')\n",
    "plt.legend()\n"
   ]
  },
  {
   "cell_type": "code",
   "execution_count": null,
   "metadata": {},
   "outputs": [],
   "source": []
  },
  {
   "cell_type": "code",
   "execution_count": null,
   "metadata": {},
   "outputs": [],
   "source": []
  }
 ],
 "metadata": {
  "colab": {
   "collapsed_sections": [],
   "name": "AquaCrop-OSPy: Notebook 1.ipynb",
   "provenance": []
  },
  "interpreter": {
   "hash": "f3b7431a1b6beb28d740864beb68f896191e4e35465b454c094981778dcd0ac4"
  },
  "kernelspec": {
   "display_name": "Python 3",
   "language": "python",
   "name": "python3"
  },
  "language_info": {
   "codemirror_mode": {
    "name": "ipython",
    "version": 3
   },
   "file_extension": ".py",
   "mimetype": "text/x-python",
   "name": "python",
   "nbconvert_exporter": "python",
   "pygments_lexer": "ipython3",
   "version": "3.8.8"
  }
 },
 "nbformat": 4,
 "nbformat_minor": 4
}

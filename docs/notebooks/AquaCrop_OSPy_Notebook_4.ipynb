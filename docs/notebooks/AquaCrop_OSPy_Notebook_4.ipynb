{
 "cells": [
  {
   "cell_type": "markdown",
   "metadata": {
    "id": "F46q9WuSNxCZ"
   },
   "source": [
    "# AquaCrop-OSPy: Bridging the gap between research and practice in crop-water modelling\n"
   ]
  },
  {
   "cell_type": "markdown",
   "metadata": {},
   "source": [
    "<a href=\"https://colab.research.google.com/github/thomasdkelly/aquacrop/blob/master/tutorials/AquaCrop_OSPy_Notebook_4.ipynb\" target=\"_parent\"><img src=\"https://colab.research.google.com/assets/colab-badge.svg\" alt=\"Open in Colab\"/></a>"
   ]
  },
  {
   "cell_type": "markdown",
   "metadata": {
    "id": "qrRbaHsji3A-"
   },
   "source": [
    "This series of notebooks provides users with an introduction to AquaCrop-OSPy, an open-source Python implementation of the U.N. Food and Agriculture Organization (FAO) AquaCrop model. AquaCrop-OSPy is accompanied by a series of Jupyter notebooks, which guide users interactively through a range of common applications of the model. Only basic Python experience is required, and the notebooks can easily be extended and adapted by users for their own applications and needs."
   ]
  },
  {
   "cell_type": "markdown",
   "metadata": {
    "id": "YDm931IGNxCb"
   },
   "source": [
    "\n",
    "This notebook series consists of four parts:\n",
    "\n",
    "1.   <a href=https://colab.research.google.com/github/thomasdkelly/aquacrop/blob/master/tutorials/AquaCrop_OSPy_Notebook_1.ipynb>Running an AquaCrop-OSPy model</a>\n",
    "2.   <a href=https://colab.research.google.com/github/thomasdkelly/aquacrop/blob/master/tutorials/AquaCrop_OSPy_Notebook_2.ipynb>Estimation of irrigation water demands</a>\n",
    "3.   <a href=https://colab.research.google.com/github/thomasdkelly/aquacrop/blob/master/tutorials/AquaCrop_OSPy_Notebook_3.ipynb>Optimisation of irrigation management strategies</a>\n",
    "4.  <a href=https://colab.research.google.com/github/thomasdkelly/aquacrop/blob/master/tutorials/AquaCrop_OSPy_Notebook_4.ipynb>Projection of climate change impacts</a>\n"
   ]
  },
  {
   "cell_type": "markdown",
   "metadata": {
    "id": "vyNH7lekn95A"
   },
   "source": [
    "# Notebook 4: Irrigation demands under different climate change scenarios"
   ]
  },
  {
   "cell_type": "markdown",
   "metadata": {
    "id": "645ACFLgeI_9"
   },
   "source": [
    "In this notebook, we show how AquaCrop-OSPy can be used to simulate impacts of climate change on crop production and irrigation water demands. Climate change is a major driver of production and water scarcity for agriculture globally, and data generated can thus play an important role in designing effective adaptation measures to support farmers and rural economies.\n",
    "\n",
    "The example presented here focuses on a case study of maize production in the central United States. Baseline data from this region (1982-2018) is used to generate future climate projections using the LARS weather generator. Projections are generated for the periods (2021-2040, 2041-2060, 2061-2080) and for emissions scenarios RCP4.5 and RCP8.5 based on outputs from the EC-EARTH climate model. "
   ]
  },
  {
   "cell_type": "markdown",
   "metadata": {
    "id": "qr27PTpVuMgX"
   },
   "source": [
    "First install and import AquaCrop-OSPy"
   ]
  },
  {
   "cell_type": "code",
   "execution_count": 1,
   "metadata": {
    "id": "8VUQP-sP75vw"
   },
   "outputs": [],
   "source": [
    "\n",
    "# !pip install aquacrop\n",
    "\n",
    "# from google.colab import output\n",
    "# output.clear()\n",
    "\n",
    "from aquacrop.classes import    *\n",
    "from aquacrop.core import       *\n",
    "from aquacrop.lars import       *\n",
    "\n",
    "import numpy as np\n",
    "import pandas as pd\n",
    "\n"
   ]
  },
  {
   "cell_type": "code",
   "execution_count": 2,
   "metadata": {},
   "outputs": [],
   "source": [
    "# # only used for local development\n",
    "\n",
    "# import sys\n",
    "# _=[sys.path.append(i) for i in ['.', '..']]\n",
    "\n",
    "# from aquacrop.classes import    *\n",
    "# from aquacrop.core import       *\n",
    "# from aquacrop.lars import       *\n",
    "\n",
    "# import numpy as np\n",
    "# import pandas as pd"
   ]
  },
  {
   "cell_type": "markdown",
   "metadata": {
    "id": "_OFr1ECjoPFm"
   },
   "source": [
    "Given the popularity of using LARS-WG for this type of analyis, AquaCrop-OSPy contains a built in function for reading LARS generated outputs. These outputs consist of daily climate projections of precipitation, minimum and maximum temperature and solar radiation. Using the Hargreaves ETo method these values were used to estimate the reference evapotranspiration, resulting in a weather DataFrame in the format required by AquaCrop-OSPy. \n",
    "\n",
    "The cell below imports the baseline data from Champion, Nebraska"
   ]
  },
  {
   "cell_type": "code",
   "execution_count": 3,
   "metadata": {
    "id": "gWOzGvic57wq"
   },
   "outputs": [],
   "source": [
    "# get baseline lars data\n",
    "lars_fp=get_filepath('CP.dat')\n",
    "lars_base=prepare_lars_weather(lars_fp,-1,False,order=['year', 'jday', 'maxTemp', 'minTemp', 'precip','rad',])"
   ]
  },
  {
   "cell_type": "code",
   "execution_count": 4,
   "metadata": {
    "colab": {
     "base_uri": "https://localhost:8080/",
     "height": 204
    },
    "id": "5h7RRQUMfE6a",
    "outputId": "7a0c1f69-29a1-4526-8719-b354c3d9932b"
   },
   "outputs": [
    {
     "data": {
      "text/html": [
       "<div>\n",
       "<style scoped>\n",
       "    .dataframe tbody tr th:only-of-type {\n",
       "        vertical-align: middle;\n",
       "    }\n",
       "\n",
       "    .dataframe tbody tr th {\n",
       "        vertical-align: top;\n",
       "    }\n",
       "\n",
       "    .dataframe thead th {\n",
       "        text-align: right;\n",
       "    }\n",
       "</style>\n",
       "<table border=\"1\" class=\"dataframe\">\n",
       "  <thead>\n",
       "    <tr style=\"text-align: right;\">\n",
       "      <th></th>\n",
       "      <th>MinTemp</th>\n",
       "      <th>MaxTemp</th>\n",
       "      <th>Precipitation</th>\n",
       "      <th>ReferenceET</th>\n",
       "      <th>Date</th>\n",
       "    </tr>\n",
       "  </thead>\n",
       "  <tbody>\n",
       "    <tr>\n",
       "      <th>0</th>\n",
       "      <td>3.89</td>\n",
       "      <td>17.22</td>\n",
       "      <td>0.00</td>\n",
       "      <td>1.868710</td>\n",
       "      <td>1981-05-20</td>\n",
       "    </tr>\n",
       "    <tr>\n",
       "      <th>1</th>\n",
       "      <td>6.67</td>\n",
       "      <td>21.67</td>\n",
       "      <td>0.00</td>\n",
       "      <td>2.665948</td>\n",
       "      <td>1981-05-21</td>\n",
       "    </tr>\n",
       "    <tr>\n",
       "      <th>2</th>\n",
       "      <td>5.56</td>\n",
       "      <td>25.00</td>\n",
       "      <td>2.01</td>\n",
       "      <td>3.420034</td>\n",
       "      <td>1981-05-22</td>\n",
       "    </tr>\n",
       "    <tr>\n",
       "      <th>3</th>\n",
       "      <td>5.56</td>\n",
       "      <td>19.44</td>\n",
       "      <td>0.00</td>\n",
       "      <td>2.440758</td>\n",
       "      <td>1981-05-23</td>\n",
       "    </tr>\n",
       "    <tr>\n",
       "      <th>4</th>\n",
       "      <td>5.56</td>\n",
       "      <td>24.44</td>\n",
       "      <td>0.00</td>\n",
       "      <td>3.520489</td>\n",
       "      <td>1981-05-24</td>\n",
       "    </tr>\n",
       "  </tbody>\n",
       "</table>\n",
       "</div>"
      ],
      "text/plain": [
       "   MinTemp  MaxTemp  Precipitation  ReferenceET       Date\n",
       "0     3.89    17.22           0.00     1.868710 1981-05-20\n",
       "1     6.67    21.67           0.00     2.665948 1981-05-21\n",
       "2     5.56    25.00           2.01     3.420034 1981-05-22\n",
       "3     5.56    19.44           0.00     2.440758 1981-05-23\n",
       "4     5.56    24.44           0.00     3.520489 1981-05-24"
      ]
     },
     "execution_count": 4,
     "metadata": {},
     "output_type": "execute_result"
    }
   ],
   "source": [
    "lars_base.head()"
   ]
  },
  {
   "cell_type": "markdown",
   "metadata": {
    "id": "XBPc1k8jYxSc"
   },
   "source": [
    "For each combination of climate scenario and projection period, read in climate data and save the weather DataFrame."
   ]
  },
  {
   "cell_type": "code",
   "execution_count": 5,
   "metadata": {
    "id": "L8vYc_YV574J"
   },
   "outputs": [],
   "source": [
    "rcp_list = [45,85]\n",
    "yr_list = [2030,2050,2070]\n",
    "yr_range_list = ['2021-2040','2041-2060','2061-2080']\n",
    "\n",
    "label_list=[]\n",
    "wdf_list = []\n",
    "all_year_list=[]\n",
    "for yr,yr_range in zip(yr_list,yr_range_list):\n",
    "    for rcp in rcp_list:\n",
    "        wdf =prepare_lars_weather(get_filepath(f'CP_EC-EARTH[CP,RCP{rcp},{yr_range}]WG.dat'),\n",
    "                              yr,True,[\"simyear\",\"jday\",\"minTemp\",\"maxTemp\",\"precip\",\"rad\"])\n",
    "        wdf_list.append(wdf)\n",
    "        label_list.append(f'RCP{rcp/10},\\n{yr_range}')\n",
    "        all_year_list.append(yr)"
   ]
  },
  {
   "cell_type": "code",
   "execution_count": 6,
   "metadata": {
    "colab": {
     "base_uri": "https://localhost:8080/"
    },
    "id": "aaAoxSdYFNrW",
    "outputId": "f6d729af-6c93-4edd-be72-b5879d98a2cc"
   },
   "outputs": [
    {
     "data": {
      "text/plain": [
       "['RCP4.5,\\n2021-2040',\n",
       " 'RCP8.5,\\n2021-2040',\n",
       " 'RCP4.5,\\n2041-2060',\n",
       " 'RCP8.5,\\n2041-2060',\n",
       " 'RCP4.5,\\n2061-2080',\n",
       " 'RCP8.5,\\n2061-2080']"
      ]
     },
     "execution_count": 6,
     "metadata": {},
     "output_type": "execute_result"
    }
   ],
   "source": [
    "label_list"
   ]
  },
  {
   "cell_type": "code",
   "execution_count": 7,
   "metadata": {
    "id": "Jw5d30i2evme"
   },
   "outputs": [],
   "source": [
    "# co2 concentrations for the scenarios listed in order\n",
    "co2_list = [435,449,487,541,524,677]"
   ]
  },
  {
   "cell_type": "markdown",
   "metadata": {
    "id": "iF-riRGJfMCC"
   },
   "source": [
    "The LARS generated output files in this example comprise of 100 years of daily weather data (denoted by the 'simyear' column). To select any one of these years, use the `select_lars_wdf` function."
   ]
  },
  {
   "cell_type": "code",
   "execution_count": 8,
   "metadata": {
    "colab": {
     "base_uri": "https://localhost:8080/",
     "height": 204
    },
    "id": "oCmqdiKVwt5e",
    "outputId": "20c1fc4e-2ab5-49f9-96dd-c4ec945fbd9f"
   },
   "outputs": [
    {
     "data": {
      "text/html": [
       "<div>\n",
       "<style scoped>\n",
       "    .dataframe tbody tr th:only-of-type {\n",
       "        vertical-align: middle;\n",
       "    }\n",
       "\n",
       "    .dataframe tbody tr th {\n",
       "        vertical-align: top;\n",
       "    }\n",
       "\n",
       "    .dataframe thead th {\n",
       "        text-align: right;\n",
       "    }\n",
       "</style>\n",
       "<table border=\"1\" class=\"dataframe\">\n",
       "  <thead>\n",
       "    <tr style=\"text-align: right;\">\n",
       "      <th></th>\n",
       "      <th>simyear</th>\n",
       "      <th>MinTemp</th>\n",
       "      <th>MaxTemp</th>\n",
       "      <th>Precipitation</th>\n",
       "      <th>ReferenceET</th>\n",
       "      <th>Date</th>\n",
       "    </tr>\n",
       "  </thead>\n",
       "  <tbody>\n",
       "    <tr>\n",
       "      <th>0</th>\n",
       "      <td>1</td>\n",
       "      <td>-1.3</td>\n",
       "      <td>-0.4</td>\n",
       "      <td>0.0</td>\n",
       "      <td>0.113671</td>\n",
       "      <td>2030-01-01</td>\n",
       "    </tr>\n",
       "    <tr>\n",
       "      <th>1</th>\n",
       "      <td>1</td>\n",
       "      <td>-10.2</td>\n",
       "      <td>19.7</td>\n",
       "      <td>0.0</td>\n",
       "      <td>3.438354</td>\n",
       "      <td>2030-01-02</td>\n",
       "    </tr>\n",
       "    <tr>\n",
       "      <th>2</th>\n",
       "      <td>1</td>\n",
       "      <td>-8.2</td>\n",
       "      <td>9.0</td>\n",
       "      <td>0.0</td>\n",
       "      <td>1.568464</td>\n",
       "      <td>2030-01-03</td>\n",
       "    </tr>\n",
       "    <tr>\n",
       "      <th>3</th>\n",
       "      <td>1</td>\n",
       "      <td>-5.0</td>\n",
       "      <td>17.3</td>\n",
       "      <td>0.0</td>\n",
       "      <td>2.585045</td>\n",
       "      <td>2030-01-04</td>\n",
       "    </tr>\n",
       "    <tr>\n",
       "      <th>4</th>\n",
       "      <td>1</td>\n",
       "      <td>-7.6</td>\n",
       "      <td>0.0</td>\n",
       "      <td>0.0</td>\n",
       "      <td>0.573125</td>\n",
       "      <td>2030-01-05</td>\n",
       "    </tr>\n",
       "  </tbody>\n",
       "</table>\n",
       "</div>"
      ],
      "text/plain": [
       "   simyear  MinTemp  MaxTemp  Precipitation  ReferenceET       Date\n",
       "0        1     -1.3     -0.4            0.0     0.113671 2030-01-01\n",
       "1        1    -10.2     19.7            0.0     3.438354 2030-01-02\n",
       "2        1     -8.2      9.0            0.0     1.568464 2030-01-03\n",
       "3        1     -5.0     17.3            0.0     2.585045 2030-01-04\n",
       "4        1     -7.6      0.0            0.0     0.573125 2030-01-05"
      ]
     },
     "execution_count": 8,
     "metadata": {},
     "output_type": "execute_result"
    }
   ],
   "source": [
    "wdf_list[0].head()"
   ]
  },
  {
   "cell_type": "code",
   "execution_count": 9,
   "metadata": {
    "colab": {
     "base_uri": "https://localhost:8080/",
     "height": 204
    },
    "id": "5nZX_gdlevkJ",
    "outputId": "fae2bff1-6761-4ac4-9929-14d6881077ca"
   },
   "outputs": [
    {
     "data": {
      "text/html": [
       "<div>\n",
       "<style scoped>\n",
       "    .dataframe tbody tr th:only-of-type {\n",
       "        vertical-align: middle;\n",
       "    }\n",
       "\n",
       "    .dataframe tbody tr th {\n",
       "        vertical-align: top;\n",
       "    }\n",
       "\n",
       "    .dataframe thead th {\n",
       "        text-align: right;\n",
       "    }\n",
       "</style>\n",
       "<table border=\"1\" class=\"dataframe\">\n",
       "  <thead>\n",
       "    <tr style=\"text-align: right;\">\n",
       "      <th></th>\n",
       "      <th>MinTemp</th>\n",
       "      <th>MaxTemp</th>\n",
       "      <th>Precipitation</th>\n",
       "      <th>ReferenceET</th>\n",
       "      <th>Date</th>\n",
       "    </tr>\n",
       "  </thead>\n",
       "  <tbody>\n",
       "    <tr>\n",
       "      <th>0</th>\n",
       "      <td>-12.3</td>\n",
       "      <td>2.5</td>\n",
       "      <td>0.0</td>\n",
       "      <td>1.030637</td>\n",
       "      <td>2030-01-01</td>\n",
       "    </tr>\n",
       "    <tr>\n",
       "      <th>1</th>\n",
       "      <td>-9.0</td>\n",
       "      <td>-6.0</td>\n",
       "      <td>0.0</td>\n",
       "      <td>0.171382</td>\n",
       "      <td>2030-01-02</td>\n",
       "    </tr>\n",
       "    <tr>\n",
       "      <th>2</th>\n",
       "      <td>-8.4</td>\n",
       "      <td>11.5</td>\n",
       "      <td>0.0</td>\n",
       "      <td>1.889522</td>\n",
       "      <td>2030-01-03</td>\n",
       "    </tr>\n",
       "    <tr>\n",
       "      <th>3</th>\n",
       "      <td>-11.6</td>\n",
       "      <td>-6.6</td>\n",
       "      <td>0.0</td>\n",
       "      <td>0.291564</td>\n",
       "      <td>2030-01-04</td>\n",
       "    </tr>\n",
       "    <tr>\n",
       "      <th>4</th>\n",
       "      <td>-14.7</td>\n",
       "      <td>7.7</td>\n",
       "      <td>0.0</td>\n",
       "      <td>1.671600</td>\n",
       "      <td>2030-01-05</td>\n",
       "    </tr>\n",
       "  </tbody>\n",
       "</table>\n",
       "</div>"
      ],
      "text/plain": [
       "   MinTemp  MaxTemp  Precipitation  ReferenceET       Date\n",
       "0    -12.3      2.5            0.0     1.030637 2030-01-01\n",
       "1     -9.0     -6.0            0.0     0.171382 2030-01-02\n",
       "2     -8.4     11.5            0.0     1.889522 2030-01-03\n",
       "3    -11.6     -6.6            0.0     0.291564 2030-01-04\n",
       "4    -14.7      7.7            0.0     1.671600 2030-01-05"
      ]
     },
     "execution_count": 9,
     "metadata": {},
     "output_type": "execute_result"
    }
   ],
   "source": [
    "select_lars_wdf(wdf_list[0],simyear=3).head()"
   ]
  },
  {
   "cell_type": "markdown",
   "metadata": {
    "id": "ZGgthwrSf3CE"
   },
   "source": [
    "Now that all the climate data is ready, we can define our crop, soil, initial water content and irrigation management. In this example we will use the AquaCrop default Maize crop in calendar day mode. The reason for using calendar day mode is so that the growing season will be the same length in each scenario. \n",
    "\n",
    "We choose a Clay loam soil starting at Field Capacity, and an irrigation policy that irrigates if the soil drops below 70% total available water (essentially meeting full crop-water requirements). "
   ]
  },
  {
   "cell_type": "code",
   "execution_count": 10,
   "metadata": {
    "id": "DdRRM_ejf8Wf"
   },
   "outputs": [],
   "source": [
    "crop=CropClass('Maize',PlantingDate='05/01',\n",
    "               CalendarType=1,Emergence = 6,Senescence=107,\n",
    "               MaxRooting=108,Maturity=132,HIstart=66,\n",
    "               Flowering=13,YldForm=61,CDC=0.117,CGC=0.163)\n",
    "          \n",
    "soil=SoilClass('ClayLoam')\n",
    "init_wc = InitWCClass() # default is field capacity\n",
    "irrmngt=IrrMngtClass(1,SMT=[70]*4)"
   ]
  },
  {
   "cell_type": "markdown",
   "metadata": {
    "id": "hHKzYLN-Ght7"
   },
   "source": [
    "Run the simulation for the baseline period and save the yields and total irrigation."
   ]
  },
  {
   "cell_type": "code",
   "execution_count": 11,
   "metadata": {
    "id": "Qv6VBbzdgTQv"
   },
   "outputs": [],
   "source": [
    "#run for baseline scenario\n",
    "model=AquaCropModel('1982/05/01','2018/10/30',lars_base,soil,crop,\n",
    "                    init_wc,IrrMngt=irrmngt)\n",
    "model.initialize()\n",
    "model.step(till_termination=True)"
   ]
  },
  {
   "cell_type": "code",
   "execution_count": 12,
   "metadata": {
    "id": "aftMgffJgcLc"
   },
   "outputs": [],
   "source": [
    "baseline_yields = list(model.Outputs.Final['Yield (tonne/ha)'].values)\n",
    "baseline_tirrs = list(model.Outputs.Final['Seasonal irrigation (mm)'].values)\n",
    "baseline_labels = ['Baseline']*len(baseline_tirrs)"
   ]
  },
  {
   "cell_type": "markdown",
   "metadata": {
    "id": "umwPI7QByco6"
   },
   "source": [
    "Define `run_gen_model` function that runs AquaCrop-OSPy for all 100 generated years of a climate scenario and future period (e.g. 2050 at RCP4.5), saving the yields and total irrigation."
   ]
  },
  {
   "cell_type": "code",
   "execution_count": 13,
   "metadata": {
    "id": "Jf-d-mlKGLij"
   },
   "outputs": [],
   "source": [
    "def run_gen_model(all_wdf,co2conc,year):\n",
    "    gen_yields=[]\n",
    "    gen_tirrs=[]\n",
    "    for i in range(100):\n",
    "        wdf = select_lars_wdf(all_wdf,i+1)\n",
    "        \n",
    "        model=AquaCropModel(f'{year}/05/01',f'{year}/10/30',wdf,soil,crop,\n",
    "                            InitWCClass(),IrrMngt=irrmngt,CO2conc=co2conc)\n",
    "        model.initialize()\n",
    "        model.step(till_termination=True)\n",
    "\n",
    "        gen_yields.append(model.Outputs.Final['Yield (tonne/ha)'].mean())\n",
    "        gen_tirrs.append(model.Outputs.Final['Seasonal irrigation (mm)'].mean())\n",
    "\n",
    "    return gen_yields,gen_tirrs"
   ]
  },
  {
   "cell_type": "markdown",
   "metadata": {
    "id": "Qs0_NiBmyzw1"
   },
   "source": [
    "For each combination of climate scenario and projection period, run AquaCrop-OSPy and save results."
   ]
  },
  {
   "cell_type": "code",
   "execution_count": 14,
   "metadata": {
    "colab": {
     "base_uri": "https://localhost:8080/",
     "height": 67,
     "referenced_widgets": [
      "9a46b9d91c764d6da74a385b16b4f436",
      "fb80899fb0c0417d8f44edcbe1737f4c",
      "999e826d20e542d9963845b72b8bc9fd",
      "ef95bb9c80d54f2b8723562ba505620d",
      "1f3ad7b472e34c958cf0388058f3d9e5",
      "ea1aaef629d04f068b0a419106c2137d",
      "f2040fb1185744be9ff79e0addaf4dc8",
      "edd5a91506544493a58fe977a922ea80"
     ]
    },
    "id": "3-ELlvXQIds1",
    "outputId": "c32e5ba0-e4e6-4094-f519-afdf6797cd91"
   },
   "outputs": [
    {
     "data": {
      "application/vnd.jupyter.widget-view+json": {
       "model_id": "7b2ea7f624ff42f09e91ff8b387ad8fd",
       "version_major": 2,
       "version_minor": 0
      },
      "text/plain": [
       "  0%|          | 0/6 [00:00<?, ?it/s]"
      ]
     },
     "metadata": {},
     "output_type": "display_data"
    }
   ],
   "source": [
    "from tqdm.notebook import tqdm # progress bar\n",
    "\n",
    "all_ylds = []\n",
    "all_tirrs = []\n",
    "all_labels = []\n",
    "for i in tqdm(range(6)):\n",
    "    year = all_year_list[i]\n",
    "    wdf = wdf_list[i]\n",
    "    co2 = co2_list[i]\n",
    "    label=label_list[i]\n",
    "\n",
    "    yld_list,tirr_list = run_gen_model(wdf,co2,year)\n",
    "\n",
    "    all_ylds.extend(yld_list)\n",
    "    all_tirrs.extend(tirr_list)\n",
    "    all_labels.extend([label]*len(yld_list))\n"
   ]
  },
  {
   "cell_type": "markdown",
   "metadata": {
    "id": "T6MlyETHzEs0"
   },
   "source": [
    "Combine projection results with baseline."
   ]
  },
  {
   "cell_type": "code",
   "execution_count": 15,
   "metadata": {
    "id": "oQ5AFeiFL60U"
   },
   "outputs": [],
   "source": [
    "all_ylds = baseline_yields+all_ylds\n",
    "all_tirrs = baseline_tirrs+all_tirrs\n",
    "all_labels = baseline_labels+all_labels"
   ]
  },
  {
   "cell_type": "code",
   "execution_count": 16,
   "metadata": {
    "colab": {
     "base_uri": "https://localhost:8080/",
     "height": 204
    },
    "id": "6-d_MGn2KBQy",
    "outputId": "91ceffdf-8879-4cd5-ab35-c7027af4190f"
   },
   "outputs": [
    {
     "data": {
      "text/html": [
       "<div>\n",
       "<style scoped>\n",
       "    .dataframe tbody tr th:only-of-type {\n",
       "        vertical-align: middle;\n",
       "    }\n",
       "\n",
       "    .dataframe tbody tr th {\n",
       "        vertical-align: top;\n",
       "    }\n",
       "\n",
       "    .dataframe thead th {\n",
       "        text-align: right;\n",
       "    }\n",
       "</style>\n",
       "<table border=\"1\" class=\"dataframe\">\n",
       "  <thead>\n",
       "    <tr style=\"text-align: right;\">\n",
       "      <th></th>\n",
       "      <th>Yield</th>\n",
       "      <th>Tirr</th>\n",
       "      <th>Label</th>\n",
       "    </tr>\n",
       "  </thead>\n",
       "  <tbody>\n",
       "    <tr>\n",
       "      <th>0</th>\n",
       "      <td>12.641796</td>\n",
       "      <td>50.0</td>\n",
       "      <td>Baseline</td>\n",
       "    </tr>\n",
       "    <tr>\n",
       "      <th>1</th>\n",
       "      <td>12.885827</td>\n",
       "      <td>75.0</td>\n",
       "      <td>Baseline</td>\n",
       "    </tr>\n",
       "    <tr>\n",
       "      <th>2</th>\n",
       "      <td>13.601273</td>\n",
       "      <td>175.0</td>\n",
       "      <td>Baseline</td>\n",
       "    </tr>\n",
       "    <tr>\n",
       "      <th>3</th>\n",
       "      <td>13.251322</td>\n",
       "      <td>175.0</td>\n",
       "      <td>Baseline</td>\n",
       "    </tr>\n",
       "    <tr>\n",
       "      <th>4</th>\n",
       "      <td>13.747646</td>\n",
       "      <td>90.65583</td>\n",
       "      <td>Baseline</td>\n",
       "    </tr>\n",
       "  </tbody>\n",
       "</table>\n",
       "</div>"
      ],
      "text/plain": [
       "       Yield      Tirr     Label\n",
       "0  12.641796      50.0  Baseline\n",
       "1  12.885827      75.0  Baseline\n",
       "2  13.601273     175.0  Baseline\n",
       "3  13.251322     175.0  Baseline\n",
       "4  13.747646  90.65583  Baseline"
      ]
     },
     "execution_count": 16,
     "metadata": {},
     "output_type": "execute_result"
    }
   ],
   "source": [
    "import pandas as pd\n",
    "\n",
    "df = pd.DataFrame([all_ylds,all_tirrs,all_labels]).T\n",
    "df.columns = ['Yield','Tirr','Label']\n",
    "df.head()"
   ]
  },
  {
   "cell_type": "markdown",
   "metadata": {
    "id": "dfDRBGSxzSMb"
   },
   "source": [
    "Visualize results for all projections and baselines."
   ]
  },
  {
   "cell_type": "code",
   "execution_count": 17,
   "metadata": {
    "colab": {
     "base_uri": "https://localhost:8080/",
     "height": 863
    },
    "id": "xEM5XqIBKTT3",
    "outputId": "b660efc2-11e4-40fb-92dc-e165eb3f8077"
   },
   "outputs": [
    {
     "data": {
      "text/plain": [
       "Text(0, 0.5, 'Total Irrigation (ha-mm)')"
      ]
     },
     "execution_count": 17,
     "metadata": {},
     "output_type": "execute_result"
    },
    {
     "data": {
      "image/png": "[encoded data removed]",
      "text/plain": [
       "<Figure size 864x1008 with 2 Axes>"
      ]
     },
     "metadata": {
      "needs_background": "light"
     },
     "output_type": "display_data"
    }
   ],
   "source": [
    "# plotting libraries\n",
    "import matplotlib.pyplot as plt\n",
    "import seaborn as sns\n",
    "\n",
    "# create figure \n",
    "fig,ax=plt.subplots(2,1,figsize=(12,14))\n",
    "\n",
    "# create box plots\n",
    "sns.boxplot(data=df,x='Label',y='Yield',ax=ax[0])\n",
    "sns.boxplot(data=df,x='Label',y='Tirr',ax=ax[1])\n",
    "\n",
    "# labels and fontsize\n",
    "\n",
    "ax[0].tick_params(labelsize=15)\n",
    "ax[0].set_xlabel(' ')\n",
    "ax[0].set_ylabel('Yield (t/ha)',fontsize=18)\n",
    "\n",
    "ax[1].tick_params(labelsize=15)\n",
    "ax[1].set_xlabel(' ')\n",
    "ax[1].set_ylabel('Total Irrigation (ha-mm)',fontsize=18)"
   ]
  },
  {
   "cell_type": "markdown",
   "metadata": {
    "id": "LD9oWnx1eDge"
   },
   "source": [
    "# Appendix: Precipitation and ET changes"
   ]
  },
  {
   "cell_type": "code",
   "execution_count": 18,
   "metadata": {
    "id": "5Platuhlbxu9"
   },
   "outputs": [],
   "source": [
    "all_precip = []\r\n",
    "all_et = []\r\n",
    "all_new_labels = []\r\n",
    "for year in range(1982,2019):\r\n",
    "    #run for baseline scenario\r\n",
    "    wdf = lars_base[lars_base.Date>f'{year}-05-01']\r\n",
    "    wdf = wdf[wdf.Date<f'{year}-10-31']\r\n",
    "\r\n",
    "    all_precip.extend([wdf.Precipitation.mean()])\r\n",
    "    all_et.extend([wdf.ReferenceET.mean()])\r\n",
    "    all_new_labels.extend(['baseline'])"
   ]
  },
  {
   "cell_type": "code",
   "execution_count": 19,
   "metadata": {
    "colab": {
     "base_uri": "https://localhost:8080/",
     "height": 67,
     "referenced_widgets": [
      "9be313966ca94ffcadad7c5a526d3b97",
      "0edfea3a2410487daf7ab676c4061bce",
      "aa817aee178344dcb85f907d08b80fbf",
      "24dd285e12944b3eba97f8ff571fef68",
      "5cdae76bbfb9487fa4c886c8b6119cc8",
      "eb72682c860345568f1090cb0923a661",
      "e27bc7429fc64a2e8339cad1aefb433c",
      "1bf386df13424bb8b43a2b809d92186f"
     ]
    },
    "id": "2nODemxe_MVN",
    "outputId": "c375d321-4cd5-4769-8e4e-798aeae79a42"
   },
   "outputs": [
    {
     "data": {
      "application/vnd.jupyter.widget-view+json": {
       "model_id": "6eda1c99b8a449af9e9103185512fa12",
       "version_major": 2,
       "version_minor": 0
      },
      "text/plain": [
       "  0%|          | 0/6 [00:00<?, ?it/s]"
      ]
     },
     "metadata": {},
     "output_type": "display_data"
    }
   ],
   "source": [
    "from tqdm.notebook import tqdm # progress bar\r\n",
    "\r\n",
    "\r\n",
    "for i in tqdm(range(6)):\r\n",
    "\r\n",
    "    year = all_year_list[i]\r\n",
    "    wdf = wdf_list[i]\r\n",
    "    co2 = co2_list[i]\r\n",
    "    label=label_list[i]\r\n",
    "\r\n",
    "    wdf = wdf[wdf.Date>f'{year}-05-01']\r\n",
    "    wdf = wdf[wdf.Date<f'{year}-10-31']\r\n",
    "\r\n",
    "    #print(wdf.ReferenceET.mean())\r\n",
    "\r\n",
    "    precip_list = list(wdf.groupby('simyear').mean().Precipitation.values)\r\n",
    "    et_list = list(wdf.groupby('simyear').mean().ReferenceET.values)\r\n",
    "\r\n",
    "\r\n",
    "    all_precip.extend(precip_list)\r\n",
    "    all_et.extend(et_list)\r\n",
    "    all_new_labels.extend([label]*len(et_list))\r\n"
   ]
  },
  {
   "cell_type": "code",
   "execution_count": 20,
   "metadata": {
    "colab": {
     "base_uri": "https://localhost:8080/",
     "height": 204
    },
    "id": "jbFgRlJjbTRU",
    "outputId": "622cebf0-921b-4233-f1fd-8f215fcba87a"
   },
   "outputs": [
    {
     "data": {
      "text/html": [
       "<div>\n",
       "<style scoped>\n",
       "    .dataframe tbody tr th:only-of-type {\n",
       "        vertical-align: middle;\n",
       "    }\n",
       "\n",
       "    .dataframe tbody tr th {\n",
       "        vertical-align: top;\n",
       "    }\n",
       "\n",
       "    .dataframe thead th {\n",
       "        text-align: right;\n",
       "    }\n",
       "</style>\n",
       "<table border=\"1\" class=\"dataframe\">\n",
       "  <thead>\n",
       "    <tr style=\"text-align: right;\">\n",
       "      <th></th>\n",
       "      <th>precip</th>\n",
       "      <th>et</th>\n",
       "      <th>Label</th>\n",
       "    </tr>\n",
       "  </thead>\n",
       "  <tbody>\n",
       "    <tr>\n",
       "      <th>0</th>\n",
       "      <td>2.043242</td>\n",
       "      <td>2.956046</td>\n",
       "      <td>baseline</td>\n",
       "    </tr>\n",
       "    <tr>\n",
       "      <th>1</th>\n",
       "      <td>1.173352</td>\n",
       "      <td>3.073606</td>\n",
       "      <td>baseline</td>\n",
       "    </tr>\n",
       "    <tr>\n",
       "      <th>2</th>\n",
       "      <td>0.894066</td>\n",
       "      <td>3.21152</td>\n",
       "      <td>baseline</td>\n",
       "    </tr>\n",
       "    <tr>\n",
       "      <th>3</th>\n",
       "      <td>1.567473</td>\n",
       "      <td>3.21065</td>\n",
       "      <td>baseline</td>\n",
       "    </tr>\n",
       "    <tr>\n",
       "      <th>4</th>\n",
       "      <td>2.312967</td>\n",
       "      <td>3.272438</td>\n",
       "      <td>baseline</td>\n",
       "    </tr>\n",
       "  </tbody>\n",
       "</table>\n",
       "</div>"
      ],
      "text/plain": [
       "     precip        et     Label\n",
       "0  2.043242  2.956046  baseline\n",
       "1  1.173352  3.073606  baseline\n",
       "2  0.894066   3.21152  baseline\n",
       "3  1.567473   3.21065  baseline\n",
       "4  2.312967  3.272438  baseline"
      ]
     },
     "execution_count": 20,
     "metadata": {},
     "output_type": "execute_result"
    }
   ],
   "source": [
    "import pandas as pd\r\n",
    "\r\n",
    "df = pd.DataFrame([all_precip,all_et,all_new_labels]).T\r\n",
    "df.columns = ['precip','et','Label']\r\n",
    "df.head()"
   ]
  },
  {
   "cell_type": "code",
   "execution_count": 21,
   "metadata": {
    "colab": {
     "base_uri": "https://localhost:8080/",
     "height": 866
    },
    "id": "j7oCj5ECaLBr",
    "outputId": "bc8218aa-65d5-4c3d-def5-ae185b8c93b7"
   },
   "outputs": [
    {
     "data": {
      "text/plain": [
       "Text(0, 0.5, 'ETo mm')"
      ]
     },
     "execution_count": 21,
     "metadata": {},
     "output_type": "execute_result"
    },
    {
     "data": {
      "image/png": "[encoded data removed]",
      "text/plain": [
       "<Figure size 864x1008 with 2 Axes>"
      ]
     },
     "metadata": {
      "needs_background": "light"
     },
     "output_type": "display_data"
    }
   ],
   "source": [
    "# plotting libraries\r\n",
    "import matplotlib.pyplot as plt\r\n",
    "import seaborn as sns\r\n",
    "\r\n",
    "# create figure \r\n",
    "fig,ax=plt.subplots(2,1,figsize=(12,14))\r\n",
    "\r\n",
    "# create box plots\r\n",
    "sns.boxplot(data=df,x='Label',y='precip',ax=ax[0])\r\n",
    "sns.boxplot(data=df,x='Label',y='et',ax=ax[1])\r\n",
    "\r\n",
    "# labels and fontsize\r\n",
    "\r\n",
    "ax[0].tick_params(labelsize=15)\r\n",
    "ax[0].set_xlabel(' ')\r\n",
    "ax[0].set_ylabel('Precipitation mm',fontsize=18)\r\n",
    "\r\n",
    "ax[1].tick_params(labelsize=15)\r\n",
    "ax[1].set_xlabel(' ')\r\n",
    "ax[1].set_ylabel('ETo mm',fontsize=18)"
   ]
  }
 ],
 "metadata": {
  "colab": {
   "collapsed_sections": [],
   "name": "Copy of Copy of AquaCrop-OSPy: Notebook 4.ipynb",
   "provenance": [],
   "toc_visible": true
  },
  "interpreter": {
   "hash": "f3b7431a1b6beb28d740864beb68f896191e4e35465b454c094981778dcd0ac4"
  },
  "kernelspec": {
   "display_name": "Python 3.9.5 64-bit ('ac_june': conda)",
   "name": "python3"
  },
  "language_info": {
   "codemirror_mode": {
    "name": "ipython",
    "version": 3
   },
   "file_extension": ".py",
   "mimetype": "text/x-python",
   "name": "python",
   "nbconvert_exporter": "python",
   "pygments_lexer": "ipython3",
   "version": "3.9.5"
  },
  "widgets": {
   "application/vnd.jupyter.widget-state+json": {
    "0edfea3a2410487daf7ab676c4061bce": {
     "model_module": "@jupyter-widgets/base",
     "model_name": "LayoutModel",
     "state": {
      "_model_module": "@jupyter-widgets/base",
      "_model_module_version": "1.2.0",
      "_model_name": "LayoutModel",
      "_view_count": null,
      "_view_module": "@jupyter-widgets/base",
      "_view_module_version": "1.2.0",
      "_view_name": "LayoutView",
      "align_content": null,
      "align_items": null,
      "align_self": null,
      "border": null,
      "bottom": null,
      "display": null,
      "flex": null,
      "flex_flow": null,
      "grid_area": null,
      "grid_auto_columns": null,
      "grid_auto_flow": null,
      "grid_auto_rows": null,
      "grid_column": null,
      "grid_gap": null,
      "grid_row": null,
      "grid_template_areas": null,
      "grid_template_columns": null,
      "grid_template_rows": null,
      "height": null,
      "justify_content": null,
      "justify_items": null,
      "left": null,
      "margin": null,
      "max_height": null,
      "max_width": null,
      "min_height": null,
      "min_width": null,
      "object_fit": null,
      "object_position": null,
      "order": null,
      "overflow": null,
      "overflow_x": null,
      "overflow_y": null,
      "padding": null,
      "right": null,
      "top": null,
      "visibility": null,
      "width": null
     }
    },
    "1bf386df13424bb8b43a2b809d92186f": {
     "model_module": "@jupyter-widgets/base",
     "model_name": "LayoutModel",
     "state": {
      "_model_module": "@jupyter-widgets/base",
      "_model_module_version": "1.2.0",
      "_model_name": "LayoutModel",
      "_view_count": null,
      "_view_module": "@jupyter-widgets/base",
      "_view_module_version": "1.2.0",
      "_view_name": "LayoutView",
      "align_content": null,
      "align_items": null,
      "align_self": null,
      "border": null,
      "bottom": null,
      "display": null,
      "flex": null,
      "flex_flow": null,
      "grid_area": null,
      "grid_auto_columns": null,
      "grid_auto_flow": null,
      "grid_auto_rows": null,
      "grid_column": null,
      "grid_gap": null,
      "grid_row": null,
      "grid_template_areas": null,
      "grid_template_columns": null,
      "grid_template_rows": null,
      "height": null,
      "justify_content": null,
      "justify_items": null,
      "left": null,
      "margin": null,
      "max_height": null,
      "max_width": null,
      "min_height": null,
      "min_width": null,
      "object_fit": null,
      "object_position": null,
      "order": null,
      "overflow": null,
      "overflow_x": null,
      "overflow_y": null,
      "padding": null,
      "right": null,
      "top": null,
      "visibility": null,
      "width": null
     }
    },
    "1f3ad7b472e34c958cf0388058f3d9e5": {
     "model_module": "@jupyter-widgets/controls",
     "model_name": "ProgressStyleModel",
     "state": {
      "_model_module": "@jupyter-widgets/controls",
      "_model_module_version": "1.5.0",
      "_model_name": "ProgressStyleModel",
      "_view_count": null,
      "_view_module": "@jupyter-widgets/base",
      "_view_module_version": "1.2.0",
      "_view_name": "StyleView",
      "bar_color": null,
      "description_width": "initial"
     }
    },
    "24dd285e12944b3eba97f8ff571fef68": {
     "model_module": "@jupyter-widgets/controls",
     "model_name": "HTMLModel",
     "state": {
      "_dom_classes": [],
      "_model_module": "@jupyter-widgets/controls",
      "_model_module_version": "1.5.0",
      "_model_name": "HTMLModel",
      "_view_count": null,
      "_view_module": "@jupyter-widgets/controls",
      "_view_module_version": "1.5.0",
      "_view_name": "HTMLView",
      "description": "",
      "description_tooltip": null,
      "layout": "IPY_MODEL_1bf386df13424bb8b43a2b809d92186f",
      "placeholder": "​",
      "style": "IPY_MODEL_e27bc7429fc64a2e8339cad1aefb433c",
      "value": " 6/6 [00:00&lt;00:00, 48.60it/s]"
     }
    },
    "5cdae76bbfb9487fa4c886c8b6119cc8": {
     "model_module": "@jupyter-widgets/controls",
     "model_name": "ProgressStyleModel",
     "state": {
      "_model_module": "@jupyter-widgets/controls",
      "_model_module_version": "1.5.0",
      "_model_name": "ProgressStyleModel",
      "_view_count": null,
      "_view_module": "@jupyter-widgets/base",
      "_view_module_version": "1.2.0",
      "_view_name": "StyleView",
      "bar_color": null,
      "description_width": "initial"
     }
    },
    "999e826d20e542d9963845b72b8bc9fd": {
     "model_module": "@jupyter-widgets/controls",
     "model_name": "FloatProgressModel",
     "state": {
      "_dom_classes": [],
      "_model_module": "@jupyter-widgets/controls",
      "_model_module_version": "1.5.0",
      "_model_name": "FloatProgressModel",
      "_view_count": null,
      "_view_module": "@jupyter-widgets/controls",
      "_view_module_version": "1.5.0",
      "_view_name": "ProgressView",
      "bar_style": "success",
      "description": "100%",
      "description_tooltip": null,
      "layout": "IPY_MODEL_ea1aaef629d04f068b0a419106c2137d",
      "max": 6,
      "min": 0,
      "orientation": "horizontal",
      "style": "IPY_MODEL_1f3ad7b472e34c958cf0388058f3d9e5",
      "value": 6
     }
    },
    "9a46b9d91c764d6da74a385b16b4f436": {
     "model_module": "@jupyter-widgets/controls",
     "model_name": "HBoxModel",
     "state": {
      "_dom_classes": [],
      "_model_module": "@jupyter-widgets/controls",
      "_model_module_version": "1.5.0",
      "_model_name": "HBoxModel",
      "_view_count": null,
      "_view_module": "@jupyter-widgets/controls",
      "_view_module_version": "1.5.0",
      "_view_name": "HBoxView",
      "box_style": "",
      "children": [
       "IPY_MODEL_999e826d20e542d9963845b72b8bc9fd",
       "IPY_MODEL_ef95bb9c80d54f2b8723562ba505620d"
      ],
      "layout": "IPY_MODEL_fb80899fb0c0417d8f44edcbe1737f4c"
     }
    },
    "9be313966ca94ffcadad7c5a526d3b97": {
     "model_module": "@jupyter-widgets/controls",
     "model_name": "HBoxModel",
     "state": {
      "_dom_classes": [],
      "_model_module": "@jupyter-widgets/controls",
      "_model_module_version": "1.5.0",
      "_model_name": "HBoxModel",
      "_view_count": null,
      "_view_module": "@jupyter-widgets/controls",
      "_view_module_version": "1.5.0",
      "_view_name": "HBoxView",
      "box_style": "",
      "children": [
       "IPY_MODEL_aa817aee178344dcb85f907d08b80fbf",
       "IPY_MODEL_24dd285e12944b3eba97f8ff571fef68"
      ],
      "layout": "IPY_MODEL_0edfea3a2410487daf7ab676c4061bce"
     }
    },
    "aa817aee178344dcb85f907d08b80fbf": {
     "model_module": "@jupyter-widgets/controls",
     "model_name": "FloatProgressModel",
     "state": {
      "_dom_classes": [],
      "_model_module": "@jupyter-widgets/controls",
      "_model_module_version": "1.5.0",
      "_model_name": "FloatProgressModel",
      "_view_count": null,
      "_view_module": "@jupyter-widgets/controls",
      "_view_module_version": "1.5.0",
      "_view_name": "ProgressView",
      "bar_style": "success",
      "description": "100%",
      "description_tooltip": null,
      "layout": "IPY_MODEL_eb72682c860345568f1090cb0923a661",
      "max": 6,
      "min": 0,
      "orientation": "horizontal",
      "style": "IPY_MODEL_5cdae76bbfb9487fa4c886c8b6119cc8",
      "value": 6
     }
    },
    "e27bc7429fc64a2e8339cad1aefb433c": {
     "model_module": "@jupyter-widgets/controls",
     "model_name": "DescriptionStyleModel",
     "state": {
      "_model_module": "@jupyter-widgets/controls",
      "_model_module_version": "1.5.0",
      "_model_name": "DescriptionStyleModel",
      "_view_count": null,
      "_view_module": "@jupyter-widgets/base",
      "_view_module_version": "1.2.0",
      "_view_name": "StyleView",
      "description_width": ""
     }
    },
    "ea1aaef629d04f068b0a419106c2137d": {
     "model_module": "@jupyter-widgets/base",
     "model_name": "LayoutModel",
     "state": {
      "_model_module": "@jupyter-widgets/base",
      "_model_module_version": "1.2.0",
      "_model_name": "LayoutModel",
      "_view_count": null,
      "_view_module": "@jupyter-widgets/base",
      "_view_module_version": "1.2.0",
      "_view_name": "LayoutView",
      "align_content": null,
      "align_items": null,
      "align_self": null,
      "border": null,
      "bottom": null,
      "display": null,
      "flex": null,
      "flex_flow": null,
      "grid_area": null,
      "grid_auto_columns": null,
      "grid_auto_flow": null,
      "grid_auto_rows": null,
      "grid_column": null,
      "grid_gap": null,
      "grid_row": null,
      "grid_template_areas": null,
      "grid_template_columns": null,
      "grid_template_rows": null,
      "height": null,
      "justify_content": null,
      "justify_items": null,
      "left": null,
      "margin": null,
      "max_height": null,
      "max_width": null,
      "min_height": null,
      "min_width": null,
      "object_fit": null,
      "object_position": null,
      "order": null,
      "overflow": null,
      "overflow_x": null,
      "overflow_y": null,
      "padding": null,
      "right": null,
      "top": null,
      "visibility": null,
      "width": null
     }
    },
    "eb72682c860345568f1090cb0923a661": {
     "model_module": "@jupyter-widgets/base",
     "model_name": "LayoutModel",
     "state": {
      "_model_module": "@jupyter-widgets/base",
      "_model_module_version": "1.2.0",
      "_model_name": "LayoutModel",
      "_view_count": null,
      "_view_module": "@jupyter-widgets/base",
      "_view_module_version": "1.2.0",
      "_view_name": "LayoutView",
      "align_content": null,
      "align_items": null,
      "align_self": null,
      "border": null,
      "bottom": null,
      "display": null,
      "flex": null,
      "flex_flow": null,
      "grid_area": null,
      "grid_auto_columns": null,
      "grid_auto_flow": null,
      "grid_auto_rows": null,
      "grid_column": null,
      "grid_gap": null,
      "grid_row": null,
      "grid_template_areas": null,
      "grid_template_columns": null,
      "grid_template_rows": null,
      "height": null,
      "justify_content": null,
      "justify_items": null,
      "left": null,
      "margin": null,
      "max_height": null,
      "max_width": null,
      "min_height": null,
      "min_width": null,
      "object_fit": null,
      "object_position": null,
      "order": null,
      "overflow": null,
      "overflow_x": null,
      "overflow_y": null,
      "padding": null,
      "right": null,
      "top": null,
      "visibility": null,
      "width": null
     }
    },
    "edd5a91506544493a58fe977a922ea80": {
     "model_module": "@jupyter-widgets/base",
     "model_name": "LayoutModel",
     "state": {
      "_model_module": "@jupyter-widgets/base",
      "_model_module_version": "1.2.0",
      "_model_name": "LayoutModel",
      "_view_count": null,
      "_view_module": "@jupyter-widgets/base",
      "_view_module_version": "1.2.0",
      "_view_name": "LayoutView",
      "align_content": null,
      "align_items": null,
      "align_self": null,
      "border": null,
      "bottom": null,
      "display": null,
      "flex": null,
      "flex_flow": null,
      "grid_area": null,
      "grid_auto_columns": null,
      "grid_auto_flow": null,
      "grid_auto_rows": null,
      "grid_column": null,
      "grid_gap": null,
      "grid_row": null,
      "grid_template_areas": null,
      "grid_template_columns": null,
      "grid_template_rows": null,
      "height": null,
      "justify_content": null,
      "justify_items": null,
      "left": null,
      "margin": null,
      "max_height": null,
      "max_width": null,
      "min_height": null,
      "min_width": null,
      "object_fit": null,
      "object_position": null,
      "order": null,
      "overflow": null,
      "overflow_x": null,
      "overflow_y": null,
      "padding": null,
      "right": null,
      "top": null,
      "visibility": null,
      "width": null
     }
    },
    "ef95bb9c80d54f2b8723562ba505620d": {
     "model_module": "@jupyter-widgets/controls",
     "model_name": "HTMLModel",
     "state": {
      "_dom_classes": [],
      "_model_module": "@jupyter-widgets/controls",
      "_model_module_version": "1.5.0",
      "_model_name": "HTMLModel",
      "_view_count": null,
      "_view_module": "@jupyter-widgets/controls",
      "_view_module_version": "1.5.0",
      "_view_name": "HTMLView",
      "description": "",
      "description_tooltip": null,
      "layout": "IPY_MODEL_edd5a91506544493a58fe977a922ea80",
      "placeholder": "​",
      "style": "IPY_MODEL_f2040fb1185744be9ff79e0addaf4dc8",
      "value": " 6/6 [00:30&lt;00:00,  5.09s/it]"
     }
    },
    "f2040fb1185744be9ff79e0addaf4dc8": {
     "model_module": "@jupyter-widgets/controls",
     "model_name": "DescriptionStyleModel",
     "state": {
      "_model_module": "@jupyter-widgets/controls",
      "_model_module_version": "1.5.0",
      "_model_name": "DescriptionStyleModel",
      "_view_count": null,
      "_view_module": "@jupyter-widgets/base",
      "_view_module_version": "1.2.0",
      "_view_name": "StyleView",
      "description_width": ""
     }
    },
    "fb80899fb0c0417d8f44edcbe1737f4c": {
     "model_module": "@jupyter-widgets/base",
     "model_name": "LayoutModel",
     "state": {
      "_model_module": "@jupyter-widgets/base",
      "_model_module_version": "1.2.0",
      "_model_name": "LayoutModel",
      "_view_count": null,
      "_view_module": "@jupyter-widgets/base",
      "_view_module_version": "1.2.0",
      "_view_name": "LayoutView",
      "align_content": null,
      "align_items": null,
      "align_self": null,
      "border": null,
      "bottom": null,
      "display": null,
      "flex": null,
      "flex_flow": null,
      "grid_area": null,
      "grid_auto_columns": null,
      "grid_auto_flow": null,
      "grid_auto_rows": null,
      "grid_column": null,
      "grid_gap": null,
      "grid_row": null,
      "grid_template_areas": null,
      "grid_template_columns": null,
      "grid_template_rows": null,
      "height": null,
      "justify_content": null,
      "justify_items": null,
      "left": null,
      "margin": null,
      "max_height": null,
      "max_width": null,
      "min_height": null,
      "min_width": null,
      "object_fit": null,
      "object_position": null,
      "order": null,
      "overflow": null,
      "overflow_x": null,
      "overflow_y": null,
      "padding": null,
      "right": null,
      "top": null,
      "visibility": null,
      "width": null
     }
    }
   }
  }
 },
 "nbformat": 4,
 "nbformat_minor": 4
}
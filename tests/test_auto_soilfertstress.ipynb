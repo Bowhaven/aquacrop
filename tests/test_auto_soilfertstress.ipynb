{
 "cells": [
  {
   "cell_type": "code",
   "execution_count": 1,
   "metadata": {},
   "outputs": [
    {
     "name": "stderr",
     "output_type": "stream",
     "text": [
      "INFO:root:Running the simulation in development mode.\n"
     ]
    },
    {
     "ename": "IndentationError",
     "evalue": "unexpected indent (calibrate_soil_fert_stress.py, line 50)",
     "output_type": "error",
     "traceback": [
      "Traceback \u001b[1;36m(most recent call last)\u001b[0m:\n",
      "\u001b[0m  File \u001b[0;32mc:\\Users\\s10034cb\\AppData\\Local\\anaconda3\\envs\\aquacrop\\lib\\site-packages\\IPython\\core\\interactiveshell.py:3526\u001b[0m in \u001b[0;35mrun_code\u001b[0m\n    exec(code_obj, self.user_global_ns, self.user_ns)\u001b[0m\n",
      "\u001b[0m  Cell \u001b[0;32mIn[1], line 4\u001b[0m\n    from aquacrop import AquaCropModel, Soil, Crop, InitialWaterContent,IrrigationManagement\u001b[0m\n",
      "\u001b[0m  File \u001b[0;32mc:\\Users\\s10034cb\\AppData\\Local\\anaconda3\\envs\\aquacrop\\lib\\site-packages\\aquacrop\\__init__.py:3\u001b[0m\n    from .core import AquaCropModel\u001b[0m\n",
      "\u001b[0m  File \u001b[0;32mc:\\Users\\s10034cb\\AppData\\Local\\anaconda3\\envs\\aquacrop\\lib\\site-packages\\aquacrop\\core.py:46\u001b[0m\n    from .initialize.read_model_parameters import read_model_parameters\u001b[0m\n",
      "\u001b[1;36m  File \u001b[1;32mc:\\Users\\s10034cb\\AppData\\Local\\anaconda3\\envs\\aquacrop\\lib\\site-packages\\aquacrop\\initialize\\read_model_parameters.py:5\u001b[1;36m\n\u001b[1;33m    from .calibrate_soil_fert_stress import calibrate_soil_fert_stress\u001b[1;36m\n",
      "\u001b[1;36m  File \u001b[1;32mc:\\Users\\s10034cb\\AppData\\Local\\anaconda3\\envs\\aquacrop\\lib\\site-packages\\aquacrop\\initialize\\calibrate_soil_fert_stress.py:50\u001b[1;36m\u001b[0m\n\u001b[1;33m    CCx=crop.CCx#*crop.Ksccx\u001b[0m\n\u001b[1;37m    ^\u001b[0m\n\u001b[1;31mIndentationError\u001b[0m\u001b[1;31m:\u001b[0m unexpected indent\n"
     ]
    }
   ],
   "source": [
    "import os\n",
    "os.environ[\"DEVELOPMENT\"] = '1'\n",
    "\n",
    "from aquacrop import AquaCropModel, Soil, Crop, InitialWaterContent,IrrigationManagement\n",
    "from aquacrop.utils import prepare_weather, get_filepath\n",
    "import pandas as pd\n",
    "import numpy as np"
   ]
  },
  {
   "cell_type": "markdown",
   "metadata": {},
   "source": [
    "Start with initial test that Han's version works WITHOUT either need_calib=1 or calibrated values:"
   ]
  },
  {
   "cell_type": "code",
   "execution_count": null,
   "metadata": {},
   "outputs": [],
   "source": []
  }
 ],
 "metadata": {
  "kernelspec": {
   "display_name": "aquacrop",
   "language": "python",
   "name": "python3"
  },
  "language_info": {
   "codemirror_mode": {
    "name": "ipython",
    "version": 3
   },
   "file_extension": ".py",
   "mimetype": "text/x-python",
   "name": "python",
   "nbconvert_exporter": "python",
   "pygments_lexer": "ipython3",
   "version": "3.9.17"
  },
  "orig_nbformat": 4
 },
 "nbformat": 4,
 "nbformat_minor": 2
}

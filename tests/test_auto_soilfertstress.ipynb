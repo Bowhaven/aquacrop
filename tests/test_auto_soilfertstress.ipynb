{
 "cells": [
  {
   "cell_type": "code",
   "execution_count": 2,
   "metadata": {},
   "outputs": [
    {
     "name": "stderr",
     "output_type": "stream",
     "text": [
      "INFO:root:Running the simulation in development mode.\n",
      "c:\\Users\\s10034cb\\AppData\\Local\\anaconda3\\envs\\aquacrop\\lib\\site-packages\\aquacrop\\solution\\root_zone_water.py:4: NumbaPendingDeprecationWarning: \u001b[1mThe 'pycc' module is pending deprecation. Replacement technology is being developed.\n",
      "\n",
      "Pending Deprecation in Numba 0.57.0. For more information please see: https://numba.readthedocs.io/en/stable/reference/deprecation.html#deprecation-of-the-numba-pycc-module\u001b[0m\n",
      "  from numba.pycc import CC\n",
      "INFO:root:\"C:\\Program Files (x86)\\Microsoft Visual Studio\\2022\\BuildTools\\VC\\Tools\\MSVC\\14.35.32215\\bin\\HostX86\\x64\\cl.exe\" /c /nologo /O2 /W3 /GL /DNDEBUG /MD \"-IC:\\Program Files (x86)\\Microsoft Visual Studio\\2022\\BuildTools\\VC\\Tools\\MSVC\\14.35.32215\\include\" \"-IC:\\Program Files (x86)\\Microsoft Visual Studio\\2022\\BuildTools\\VC\\Tools\\MSVC\\14.35.32215\\ATLMFC\\include\" \"-IC:\\Program Files (x86)\\Microsoft Visual Studio\\2022\\BuildTools\\VC\\Auxiliary\\VS\\include\" \"-IC:\\Program Files (x86)\\Windows Kits\\10\\include\\10.0.22000.0\\ucrt\" \"-IC:\\Program Files (x86)\\Windows Kits\\10\\\\include\\10.0.22000.0\\\\um\" \"-IC:\\Program Files (x86)\\Windows Kits\\10\\\\include\\10.0.22000.0\\\\shared\" \"-IC:\\Program Files (x86)\\Windows Kits\\10\\\\include\\10.0.22000.0\\\\winrt\" \"-IC:\\Program Files (x86)\\Windows Kits\\10\\\\include\\10.0.22000.0\\\\cppwinrt\" /TcC:\\Users\\s10034cb\\AppData\\Local\\Temp\\tmplrvtkypm\\temp.c /FoC:\\Users\\s10034cb\\AppData\\Local\\Temp\\tmplrvtkypm\\temp.obj\n",
      "INFO:root:\"C:\\Program Files (x86)\\Microsoft Visual Studio\\2022\\BuildTools\\VC\\Tools\\MSVC\\14.35.32215\\bin\\HostX86\\x64\\cl.exe\" /c /nologo /O2 /W3 /GL /DNDEBUG /MD \"-IC:\\Program Files (x86)\\Microsoft Visual Studio\\2022\\BuildTools\\VC\\Tools\\MSVC\\14.35.32215\\include\" \"-IC:\\Program Files (x86)\\Microsoft Visual Studio\\2022\\BuildTools\\VC\\Tools\\MSVC\\14.35.32215\\ATLMFC\\include\" \"-IC:\\Program Files (x86)\\Microsoft Visual Studio\\2022\\BuildTools\\VC\\Auxiliary\\VS\\include\" \"-IC:\\Program Files (x86)\\Windows Kits\\10\\include\\10.0.22000.0\\ucrt\" \"-IC:\\Program Files (x86)\\Windows Kits\\10\\\\include\\10.0.22000.0\\\\um\" \"-IC:\\Program Files (x86)\\Windows Kits\\10\\\\include\\10.0.22000.0\\\\shared\" \"-IC:\\Program Files (x86)\\Windows Kits\\10\\\\include\\10.0.22000.0\\\\winrt\" \"-IC:\\Program Files (x86)\\Windows Kits\\10\\\\include\\10.0.22000.0\\\\cppwinrt\" /EHsc /TpC:\\Users\\s10034cb\\AppData\\Local\\Temp\\tmp1nw829vn\\temp.cxx /FoC:\\Users\\s10034cb\\AppData\\Local\\Temp\\tmp1nw829vn\\temp.obj\n"
     ]
    }
   ],
   "source": [
    "import os\n",
    "os.environ[\"DEVELOPMENT\"] = '1'\n",
    "\n",
    "from aquacrop import AquaCropModel, Soil, Crop, InitialWaterContent,IrrigationManagement\n",
    "from aquacrop.utils import prepare_weather, get_filepath\n",
    "import pandas as pd\n",
    "import numpy as np"
   ]
  },
  {
   "cell_type": "markdown",
   "metadata": {},
   "source": [
    "Start with initial test that Han's version works WITHOUT either need_calib=1 or calibrated values: (though I have already made changes to the structure, this shouldn't affect functionality)"
   ]
  },
  {
   "cell_type": "code",
   "execution_count": 3,
   "metadata": {},
   "outputs": [],
   "source": [
    "filepath=get_filepath('tunis_climate.txt')\n",
    "\n",
    "weather_data = prepare_weather(filepath)\n",
    "\n",
    "# soil\n",
    "sandy_loam = Soil(soil_type='SiltLoam')\n",
    "\n",
    "# crops\n",
    "wheat = Crop('Wheat', planting_date='10/01')\n",
    "\n",
    "# IWC\n",
    "InitWC = InitialWaterContent(value=['FC'])\n",
    "\n",
    "# irr management\n",
    "irr_mngt = IrrigationManagement(irrigation_method=0)"
   ]
  },
  {
   "cell_type": "code",
   "execution_count": 7,
   "metadata": {},
   "outputs": [
    {
     "ename": "UnboundLocalError",
     "evalue": "local variable 'gdd_cum' referenced before assignment",
     "output_type": "error",
     "traceback": [
      "\u001b[1;31m---------------------------------------------------------------------------\u001b[0m",
      "\u001b[1;31mUnboundLocalError\u001b[0m                         Traceback (most recent call last)",
      "\u001b[1;32mc:\\Users\\s10034cb\\Dropbox (The University of Manchester)\\Manchester Postdoc\\aquacrop\\tests\\test_auto_soilfertstress.ipynb Cell 4\u001b[0m line \u001b[0;36m9\n\u001b[0;32m      <a href='vscode-notebook-cell:/c%3A/Users/s10034cb/Dropbox%20%28The%20University%20of%20Manchester%29/Manchester%20Postdoc/aquacrop/tests/test_auto_soilfertstress.ipynb#W3sZmlsZQ%3D%3D?line=0'>1</a>\u001b[0m model1 \u001b[39m=\u001b[39m AquaCropModel(sim_start_time\u001b[39m=\u001b[39m\u001b[39mf\u001b[39m\u001b[39m'\u001b[39m\u001b[39m{\u001b[39;00m\u001b[39m1979\u001b[39m\u001b[39m}\u001b[39;00m\u001b[39m/10/01\u001b[39m\u001b[39m'\u001b[39m,\n\u001b[0;32m      <a href='vscode-notebook-cell:/c%3A/Users/s10034cb/Dropbox%20%28The%20University%20of%20Manchester%29/Manchester%20Postdoc/aquacrop/tests/test_auto_soilfertstress.ipynb#W3sZmlsZQ%3D%3D?line=1'>2</a>\u001b[0m                       sim_end_time\u001b[39m=\u001b[39m\u001b[39mf\u001b[39m\u001b[39m'\u001b[39m\u001b[39m{\u001b[39;00m\u001b[39m1985\u001b[39m\u001b[39m}\u001b[39;00m\u001b[39m/05/30\u001b[39m\u001b[39m'\u001b[39m,\n\u001b[0;32m      <a href='vscode-notebook-cell:/c%3A/Users/s10034cb/Dropbox%20%28The%20University%20of%20Manchester%29/Manchester%20Postdoc/aquacrop/tests/test_auto_soilfertstress.ipynb#W3sZmlsZQ%3D%3D?line=2'>3</a>\u001b[0m                       weather_df\u001b[39m=\u001b[39mweather_data,\n\u001b[1;32m   (...)\u001b[0m\n\u001b[0;32m      <a href='vscode-notebook-cell:/c%3A/Users/s10034cb/Dropbox%20%28The%20University%20of%20Manchester%29/Manchester%20Postdoc/aquacrop/tests/test_auto_soilfertstress.ipynb#W3sZmlsZQ%3D%3D?line=5'>6</a>\u001b[0m                       irrigation_management\u001b[39m=\u001b[39mirr_mngt,\n\u001b[0;32m      <a href='vscode-notebook-cell:/c%3A/Users/s10034cb/Dropbox%20%28The%20University%20of%20Manchester%29/Manchester%20Postdoc/aquacrop/tests/test_auto_soilfertstress.ipynb#W3sZmlsZQ%3D%3D?line=6'>7</a>\u001b[0m                       initial_water_content\u001b[39m=\u001b[39mInitWC)\n\u001b[1;32m----> <a href='vscode-notebook-cell:/c%3A/Users/s10034cb/Dropbox%20%28The%20University%20of%20Manchester%29/Manchester%20Postdoc/aquacrop/tests/test_auto_soilfertstress.ipynb#W3sZmlsZQ%3D%3D?line=8'>9</a>\u001b[0m model1\u001b[39m.\u001b[39;49mrun_model(till_termination\u001b[39m=\u001b[39;49m\u001b[39mTrue\u001b[39;49;00m)\n",
      "File \u001b[1;32mc:\\Users\\s10034cb\\AppData\\Local\\anaconda3\\envs\\aquacrop\\lib\\site-packages\\aquacrop\\core.py:290\u001b[0m, in \u001b[0;36mAquaCropModel.run_model\u001b[1;34m(self, num_steps, till_termination, initialize_model, process_outputs)\u001b[0m\n\u001b[0;32m    270\u001b[0m \u001b[39m\u001b[39m\u001b[39m\"\"\"\u001b[39;00m\n\u001b[0;32m    271\u001b[0m \u001b[39mThis function is responsible for executing the model.\u001b[39;00m\n\u001b[0;32m    272\u001b[0m \n\u001b[1;32m   (...)\u001b[0m\n\u001b[0;32m    286\u001b[0m \u001b[39m    True if finished\u001b[39;00m\n\u001b[0;32m    287\u001b[0m \u001b[39m\"\"\"\u001b[39;00m\n\u001b[0;32m    289\u001b[0m \u001b[39mif\u001b[39;00m initialize_model:\n\u001b[1;32m--> 290\u001b[0m     \u001b[39mself\u001b[39;49m\u001b[39m.\u001b[39;49m_initialize()\n\u001b[0;32m    292\u001b[0m \u001b[39mif\u001b[39;00m till_termination:\n\u001b[0;32m    293\u001b[0m     \u001b[39mself\u001b[39m\u001b[39m.\u001b[39m__start_model_execution \u001b[39m=\u001b[39m time\u001b[39m.\u001b[39mtime()\n",
      "File \u001b[1;32mc:\\Users\\s10034cb\\AppData\\Local\\anaconda3\\envs\\aquacrop\\lib\\site-packages\\aquacrop\\core.py:225\u001b[0m, in \u001b[0;36mAquaCropModel._initialize\u001b[1;34m(self)\u001b[0m\n\u001b[0;32m    222\u001b[0m \u001b[39mself\u001b[39m\u001b[39m.\u001b[39mweather_df \u001b[39m=\u001b[39m read_weather_inputs(\u001b[39mself\u001b[39m\u001b[39m.\u001b[39m_clock_struct, \u001b[39mself\u001b[39m\u001b[39m.\u001b[39mweather_df)\n\u001b[0;32m    224\u001b[0m \u001b[39m# read model params\u001b[39;00m\n\u001b[1;32m--> 225\u001b[0m \u001b[39mself\u001b[39m\u001b[39m.\u001b[39m_clock_struct, \u001b[39mself\u001b[39m\u001b[39m.\u001b[39m_param_struct \u001b[39m=\u001b[39m read_model_parameters(\n\u001b[0;32m    226\u001b[0m     \u001b[39mself\u001b[39;49m\u001b[39m.\u001b[39;49m_clock_struct, \u001b[39mself\u001b[39;49m\u001b[39m.\u001b[39;49msoil, \u001b[39mself\u001b[39;49m\u001b[39m.\u001b[39;49mcrop, \u001b[39mself\u001b[39;49m\u001b[39m.\u001b[39;49mweather_df\n\u001b[0;32m    227\u001b[0m )\n\u001b[0;32m    229\u001b[0m \u001b[39m# read irrigation management\u001b[39;00m\n\u001b[0;32m    230\u001b[0m \u001b[39mself\u001b[39m\u001b[39m.\u001b[39m_param_struct \u001b[39m=\u001b[39m read_irrigation_management(\n\u001b[0;32m    231\u001b[0m     \u001b[39mself\u001b[39m\u001b[39m.\u001b[39m_param_struct, \u001b[39mself\u001b[39m\u001b[39m.\u001b[39mirrigation_management, \u001b[39mself\u001b[39m\u001b[39m.\u001b[39m_clock_struct\n\u001b[0;32m    232\u001b[0m )\n",
      "File \u001b[1;32mc:\\Users\\s10034cb\\AppData\\Local\\anaconda3\\envs\\aquacrop\\lib\\site-packages\\aquacrop\\initialize\\read_model_parameters.py:136\u001b[0m, in \u001b[0;36mread_model_parameters\u001b[1;34m(clock_struct, soil, crop, weather_df)\u001b[0m\n\u001b[0;32m    133\u001b[0m param_struct\u001b[39m.\u001b[39mCO2\u001b[39m.\u001b[39mco2_data_processed \u001b[39m=\u001b[39m pd\u001b[39m.\u001b[39mSeries(CO2conc_interp, index\u001b[39m=\u001b[39msim_years)  \u001b[39m# maybe get rid of this\u001b[39;00m\n\u001b[0;32m    135\u001b[0m \u001b[39mif\u001b[39;00m crop\u001b[39m.\u001b[39mharvest_date \u001b[39mis\u001b[39;00m \u001b[39mNone\u001b[39;00m:\n\u001b[1;32m--> 136\u001b[0m     crop, gdd_cum \u001b[39m=\u001b[39m compute_crop_calendar(\n\u001b[0;32m    137\u001b[0m         crop,\n\u001b[0;32m    138\u001b[0m         clock_struct\u001b[39m.\u001b[39;49mplanting_dates,\n\u001b[0;32m    139\u001b[0m         clock_struct\u001b[39m.\u001b[39;49msimulation_start_date,\n\u001b[0;32m    140\u001b[0m         clock_struct\u001b[39m.\u001b[39;49mtime_span,\n\u001b[0;32m    141\u001b[0m         weather_df,\n\u001b[0;32m    142\u001b[0m         param_struct,\u001b[39m#for soil fertility stress\u001b[39;49;00m\n\u001b[0;32m    143\u001b[0m     )\n\u001b[0;32m    144\u001b[0m     mature \u001b[39m=\u001b[39m \u001b[39mint\u001b[39m(crop\u001b[39m.\u001b[39mMaturityCD \u001b[39m+\u001b[39m \u001b[39m30\u001b[39m)\n\u001b[0;32m    145\u001b[0m     plant \u001b[39m=\u001b[39m pd\u001b[39m.\u001b[39mto_datetime(\u001b[39m\"\u001b[39m\u001b[39m1990/\u001b[39m\u001b[39m\"\u001b[39m \u001b[39m+\u001b[39m crop\u001b[39m.\u001b[39mplanting_date)\n",
      "File \u001b[1;32mc:\\Users\\s10034cb\\AppData\\Local\\anaconda3\\envs\\aquacrop\\lib\\site-packages\\aquacrop\\initialize\\compute_crop_calendar.py:327\u001b[0m, in \u001b[0;36mcompute_crop_calendar\u001b[1;34m(crop, clock_struct_planting_dates, clock_struct_simulation_start_date, clock_struct_time_span, weather_df, ParamStruct)\u001b[0m\n\u001b[0;32m    324\u001b[0m     \u001b[39melse\u001b[39;00m:\n\u001b[0;32m    325\u001b[0m         crop\u001b[39m.\u001b[39mFloweringCD \u001b[39m=\u001b[39m ModelConstants\u001b[39m.\u001b[39mNO_VALUE\n\u001b[1;32m--> 327\u001b[0m \u001b[39mreturn\u001b[39;00m crop, gdd_cum\n",
      "\u001b[1;31mUnboundLocalError\u001b[0m: local variable 'gdd_cum' referenced before assignment"
     ]
    }
   ],
   "source": [
    "model1 = AquaCropModel(sim_start_time=f'{1979}/10/01',\n",
    "                      sim_end_time=f'{1985}/05/30',\n",
    "                      weather_df=weather_data,\n",
    "                      soil=sandy_loam,\n",
    "                      crop=wheat,\n",
    "                      irrigation_management=irr_mngt,\n",
    "                      initial_water_content=InitWC)\n",
    "\n",
    "model1.run_model(till_termination=True)"
   ]
  }
 ],
 "metadata": {
  "kernelspec": {
   "display_name": "aquacrop",
   "language": "python",
   "name": "python3"
  },
  "language_info": {
   "codemirror_mode": {
    "name": "ipython",
    "version": 3
   },
   "file_extension": ".py",
   "mimetype": "text/x-python",
   "name": "python",
   "nbconvert_exporter": "python",
   "pygments_lexer": "ipython3",
   "version": "3.9.17"
  },
  "orig_nbformat": 4
 },
 "nbformat": 4,
 "nbformat_minor": 2
}
